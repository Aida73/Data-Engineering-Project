{
 "cells": [
  {
   "cell_type": "code",
   "execution_count": 7,
   "metadata": {},
   "outputs": [],
   "source": [
    "%reload_ext autoreload\n",
    "%autoreload 2\n",
    "\n",
    "\n",
    "import pandas as pd\n",
    "from pathlib import Path\n",
    "import os\n",
    "import numpy as np\n",
    "import unidecode\n",
    "import sys\n",
    "sys.path.append(str(Path.cwd().parent))\n",
    "from settings.params import (DATA_DIR,\n",
    "                            FILTERS_PARAMS)"
   ]
  },
  {
   "cell_type": "markdown",
   "metadata": {},
   "source": [
    "### Read data"
   ]
  },
  {
   "cell_type": "code",
   "execution_count": 8,
   "metadata": {},
   "outputs": [],
   "source": [
    "def load_data():\n",
    "    list_dataframe = {}\n",
    "    for i,filename in enumerate(os.listdir(DATA_DIR)):\n",
    "        df_name = f\"df_{filename.split('.')[0]}\"\n",
    "        if filename.split('.')[-1] == 'csv':\n",
    "            list_dataframe[df_name] = pd.read_csv(Path(DATA_DIR,filename),sep=',', index_col=[0])\n",
    "        elif (filename.split('.')[-1] == 'xlsx') or (filename.split('.')[-1] == 'xls'):\n",
    "            list_dataframe[df_name] = pd.read_excel(Path(DATA_DIR,filename))\n",
    "        #df_name = f\"df_{filename.split('.')[0]}\"\n",
    "        print(filename)\n",
    "    return list_dataframe"
   ]
  },
  {
   "cell_type": "code",
   "execution_count": 9,
   "metadata": {},
   "outputs": [
    {
     "name": "stdout",
     "output_type": "stream",
     "text": [
      ".DS_Store\n",
      "indicators.csv\n",
      "CLASS.xlsx\n",
      "country_codes.csv\n"
     ]
    }
   ],
   "source": [
    "datasets = load_data()"
   ]
  },
  {
   "cell_type": "code",
   "execution_count": 10,
   "metadata": {},
   "outputs": [
    {
     "data": {
      "text/plain": [
       "dict_keys(['df_indicators', 'df_CLASS', 'df_country_codes'])"
      ]
     },
     "execution_count": 10,
     "metadata": {},
     "output_type": "execute_result"
    }
   ],
   "source": [
    "datasets.keys()"
   ]
  },
  {
   "cell_type": "markdown",
   "metadata": {},
   "source": [
    "### Explore Indicators dataframe"
   ]
  },
  {
   "cell_type": "code",
   "execution_count": 11,
   "metadata": {},
   "outputs": [
    {
     "data": {
      "text/html": [
       "<div>\n",
       "<style scoped>\n",
       "    .dataframe tbody tr th:only-of-type {\n",
       "        vertical-align: middle;\n",
       "    }\n",
       "\n",
       "    .dataframe tbody tr th {\n",
       "        vertical-align: top;\n",
       "    }\n",
       "\n",
       "    .dataframe thead th {\n",
       "        text-align: right;\n",
       "    }\n",
       "</style>\n",
       "<table border=\"1\" class=\"dataframe\">\n",
       "  <thead>\n",
       "    <tr style=\"text-align: right;\">\n",
       "      <th></th>\n",
       "      <th>Country</th>\n",
       "      <th>Ratio de la population pauvre disposant de moins de $ 1,90 par jour (2011 PPA) (% de la population)</th>\n",
       "      <th>Espérance de vie à la naissance, total (années)</th>\n",
       "      <th>Population, total</th>\n",
       "      <th>Croissance de la population (% annuel)</th>\n",
       "      <th>Migration nette</th>\n",
       "      <th>Indice du capital humain (échelle comprise entre 0 et 1)</th>\n",
       "      <th>PIB ($ US courants)current US$constant US$current LCUconstant LCU</th>\n",
       "      <th>PIB par habitant ($ US courants)current US$constant US$current LCUconstant LCU</th>\n",
       "      <th>Croissance du PIB (% annuel)</th>\n",
       "      <th>...</th>\n",
       "      <th>Accès à l’électricité (% de la population)</th>\n",
       "      <th>Retraits annuels d’eau douce, total (% des ressources internes)</th>\n",
       "      <th>Production d’électricité à partir de sources d’énergie renouvelables, hors énergie hydroélectrique (% du total)</th>\n",
       "      <th>People using safely managed sanitation services (% of population)</th>\n",
       "      <th>Homicides intentionnels (pour 100 000 personnes)</th>\n",
       "      <th>Dette du gouvernement central, total (% du PIB)</th>\n",
       "      <th>Statistical performance indicators (SPI): Overall score (scale 0-100)</th>\n",
       "      <th>Utilisateurs d Internet (% de la population)</th>\n",
       "      <th>Proportion de sièges occupés par des femmes dans les parlements nationaux (%)</th>\n",
       "      <th>Investissements étrangers directs, entrées nettes (% du PIB)</th>\n",
       "    </tr>\n",
       "  </thead>\n",
       "  <tbody>\n",
       "    <tr>\n",
       "      <th>0</th>\n",
       "      <td>Afghanistan</td>\n",
       "      <td>No data available</td>\n",
       "      <td>62</td>\n",
       "      <td>41 128 771</td>\n",
       "      <td>2,5</td>\n",
       "      <td>-183 672</td>\n",
       "      <td>0,4</td>\n",
       "      <td>14,58</td>\n",
       "      <td>363,7</td>\n",
       "      <td>-20,7</td>\n",
       "      <td>...</td>\n",
       "      <td>97,7</td>\n",
       "      <td>43</td>\n",
       "      <td>No data available</td>\n",
       "      <td>No data available</td>\n",
       "      <td>4</td>\n",
       "      <td>No data available</td>\n",
       "      <td>49,8</td>\n",
       "      <td>18</td>\n",
       "      <td>27</td>\n",
       "      <td>0,1</td>\n",
       "    </tr>\n",
       "    <tr>\n",
       "      <th>1</th>\n",
       "      <td>Afrique du Sud</td>\n",
       "      <td>20,5</td>\n",
       "      <td>62</td>\n",
       "      <td>59 893 885</td>\n",
       "      <td>0,8</td>\n",
       "      <td>10 934</td>\n",
       "      <td>0,4</td>\n",
       "      <td>405,87</td>\n",
       "      <td>6 776,5</td>\n",
       "      <td>2,0</td>\n",
       "      <td>...</td>\n",
       "      <td>89,3</td>\n",
       "      <td>45</td>\n",
       "      <td>1,9</td>\n",
       "      <td>No data available</td>\n",
       "      <td>42</td>\n",
       "      <td>75,6</td>\n",
       "      <td>73,5</td>\n",
       "      <td>72</td>\n",
       "      <td>47</td>\n",
       "      <td>2,2</td>\n",
       "    </tr>\n",
       "    <tr>\n",
       "      <th>2</th>\n",
       "      <td>Albanie</td>\n",
       "      <td>0,0</td>\n",
       "      <td>76</td>\n",
       "      <td>2 775 634</td>\n",
       "      <td>-1,3</td>\n",
       "      <td>-10 612</td>\n",
       "      <td>0,6</td>\n",
       "      <td>18,88</td>\n",
       "      <td>6 802,8</td>\n",
       "      <td>4,8</td>\n",
       "      <td>...</td>\n",
       "      <td>100,0</td>\n",
       "      <td>3</td>\n",
       "      <td>0,0</td>\n",
       "      <td>48</td>\n",
       "      <td>2</td>\n",
       "      <td>82,4</td>\n",
       "      <td>75,4</td>\n",
       "      <td>79</td>\n",
       "      <td>36</td>\n",
       "      <td>7,6</td>\n",
       "    </tr>\n",
       "    <tr>\n",
       "      <th>3</th>\n",
       "      <td>Algerie</td>\n",
       "      <td>0,5</td>\n",
       "      <td>76</td>\n",
       "      <td>44 903 225</td>\n",
       "      <td>1,6</td>\n",
       "      <td>-18 797</td>\n",
       "      <td>0,5</td>\n",
       "      <td>191,91</td>\n",
       "      <td>4 273,9</td>\n",
       "      <td>3,1</td>\n",
       "      <td>...</td>\n",
       "      <td>99,8</td>\n",
       "      <td>87</td>\n",
       "      <td>0,1</td>\n",
       "      <td>18</td>\n",
       "      <td>2</td>\n",
       "      <td>No data available</td>\n",
       "      <td>55,1</td>\n",
       "      <td>71</td>\n",
       "      <td>8</td>\n",
       "      <td>0,0</td>\n",
       "    </tr>\n",
       "    <tr>\n",
       "      <th>4</th>\n",
       "      <td>Andorre</td>\n",
       "      <td>No data available</td>\n",
       "      <td>No data available</td>\n",
       "      <td>79 824</td>\n",
       "      <td>1,0</td>\n",
       "      <td>1 377</td>\n",
       "      <td>No data available</td>\n",
       "      <td>3,35</td>\n",
       "      <td>41 992,8</td>\n",
       "      <td>8,8</td>\n",
       "      <td>...</td>\n",
       "      <td>100,0</td>\n",
       "      <td>No data available</td>\n",
       "      <td>No data available</td>\n",
       "      <td>100</td>\n",
       "      <td>3</td>\n",
       "      <td>No data available</td>\n",
       "      <td>No data available</td>\n",
       "      <td>94</td>\n",
       "      <td>46</td>\n",
       "      <td>No data available</td>\n",
       "    </tr>\n",
       "  </tbody>\n",
       "</table>\n",
       "<p>5 rows × 25 columns</p>\n",
       "</div>"
      ],
      "text/plain": [
       "           Country  \\\n",
       "0     Afghanistan    \n",
       "1  Afrique du Sud    \n",
       "2         Albanie    \n",
       "3         Algerie    \n",
       "4         Andorre    \n",
       "\n",
       "  Ratio de la population pauvre disposant de moins de $ 1,90 par jour (2011 PPA) (% de la population)  \\\n",
       "0                                  No data available                                                    \n",
       "1                                               20,5                                                    \n",
       "2                                                0,0                                                    \n",
       "3                                                0,5                                                    \n",
       "4                                  No data available                                                    \n",
       "\n",
       "  Espérance de vie à la naissance, total (années) Population, total  \\\n",
       "0                                              62        41 128 771   \n",
       "1                                              62        59 893 885   \n",
       "2                                              76         2 775 634   \n",
       "3                                              76        44 903 225   \n",
       "4                               No data available            79 824   \n",
       "\n",
       "  Croissance de la population (% annuel) Migration nette  \\\n",
       "0                                    2,5        -183 672   \n",
       "1                                    0,8          10 934   \n",
       "2                                   -1,3         -10 612   \n",
       "3                                    1,6         -18 797   \n",
       "4                                    1,0           1 377   \n",
       "\n",
       "  Indice du capital humain (échelle comprise entre 0 et 1)  \\\n",
       "0                                                0,4         \n",
       "1                                                0,4         \n",
       "2                                                0,6         \n",
       "3                                                0,5         \n",
       "4                                  No data available         \n",
       "\n",
       "  PIB ($ US courants)current US$constant US$current LCUconstant LCU  \\\n",
       "0                                              14,58                  \n",
       "1                                             405,87                  \n",
       "2                                              18,88                  \n",
       "3                                             191,91                  \n",
       "4                                               3,35                  \n",
       "\n",
       "  PIB par habitant ($ US courants)current US$constant US$current LCUconstant LCU  \\\n",
       "0                                              363,7                               \n",
       "1                                            6 776,5                               \n",
       "2                                            6 802,8                               \n",
       "3                                            4 273,9                               \n",
       "4                                           41 992,8                               \n",
       "\n",
       "  Croissance du PIB (% annuel)  ...  \\\n",
       "0                        -20,7  ...   \n",
       "1                          2,0  ...   \n",
       "2                          4,8  ...   \n",
       "3                          3,1  ...   \n",
       "4                          8,8  ...   \n",
       "\n",
       "  Accès à l’électricité (% de la population)  \\\n",
       "0                                       97,7   \n",
       "1                                       89,3   \n",
       "2                                      100,0   \n",
       "3                                       99,8   \n",
       "4                                      100,0   \n",
       "\n",
       "  Retraits annuels d’eau douce, total (% des ressources internes)  \\\n",
       "0                                                 43                \n",
       "1                                                 45                \n",
       "2                                                  3                \n",
       "3                                                 87                \n",
       "4                                  No data available                \n",
       "\n",
       "  Production d’électricité à partir de sources d’énergie renouvelables, hors énergie hydroélectrique (% du total)  \\\n",
       "0                                  No data available                                                                \n",
       "1                                                1,9                                                                \n",
       "2                                                0,0                                                                \n",
       "3                                                0,1                                                                \n",
       "4                                  No data available                                                                \n",
       "\n",
       "  People using safely managed sanitation services (% of population)  \\\n",
       "0                                  No data available                  \n",
       "1                                  No data available                  \n",
       "2                                                 48                  \n",
       "3                                                 18                  \n",
       "4                                                100                  \n",
       "\n",
       "  Homicides intentionnels (pour 100 000 personnes)  \\\n",
       "0                                                4   \n",
       "1                                               42   \n",
       "2                                                2   \n",
       "3                                                2   \n",
       "4                                                3   \n",
       "\n",
       "  Dette du gouvernement central, total (% du PIB)  \\\n",
       "0                               No data available   \n",
       "1                                            75,6   \n",
       "2                                            82,4   \n",
       "3                               No data available   \n",
       "4                               No data available   \n",
       "\n",
       "  Statistical performance indicators (SPI): Overall score (scale 0-100)  \\\n",
       "0                                               49,8                      \n",
       "1                                               73,5                      \n",
       "2                                               75,4                      \n",
       "3                                               55,1                      \n",
       "4                                  No data available                      \n",
       "\n",
       "  Utilisateurs d Internet (% de la population)  \\\n",
       "0                                           18   \n",
       "1                                           72   \n",
       "2                                           79   \n",
       "3                                           71   \n",
       "4                                           94   \n",
       "\n",
       "  Proportion de sièges occupés par des femmes dans les parlements nationaux (%)  \\\n",
       "0                                                 27                              \n",
       "1                                                 47                              \n",
       "2                                                 36                              \n",
       "3                                                  8                              \n",
       "4                                                 46                              \n",
       "\n",
       "  Investissements étrangers directs, entrées nettes (% du PIB)  \n",
       "0                                                0,1            \n",
       "1                                                2,2            \n",
       "2                                                7,6            \n",
       "3                                                0,0            \n",
       "4                                  No data available            \n",
       "\n",
       "[5 rows x 25 columns]"
      ]
     },
     "execution_count": 11,
     "metadata": {},
     "output_type": "execute_result"
    }
   ],
   "source": [
    "if('df_indicators' in list(datasets.keys())):\n",
    "    df_indicators = datasets['df_indicators']\n",
    "df_indicators.head()"
   ]
  },
  {
   "cell_type": "code",
   "execution_count": 12,
   "metadata": {},
   "outputs": [
    {
     "data": {
      "text/plain": [
       "Index(['Country',\n",
       "       'Ratio de la population pauvre disposant de moins de $ 1,90 par jour (2011 PPA) (% de la population)',\n",
       "       'Espérance de vie à la naissance, total (années)', 'Population, total',\n",
       "       'Croissance de la population (% annuel)', 'Migration nette',\n",
       "       'Indice du capital humain (échelle comprise entre 0 et 1)',\n",
       "       'PIB ($ US courants)current US$constant US$current LCUconstant LCU',\n",
       "       'PIB par habitant ($ US courants)current US$constant US$current LCUconstant LCU',\n",
       "       'Croissance du PIB (% annuel)',\n",
       "       'Chômage, total (% de la population) (estimation modélisée OIT)',\n",
       "       'Inflation, prix à la consommation (% annuel)',\n",
       "       'Envois de fonds des travailleurs et rémunérations des salariés, reçus (% du PIB)',\n",
       "       'Émissions de CO2 (tonnes métriques par habitant)',\n",
       "       'Surface forestière (% du territoire)',\n",
       "       'Accès à l’électricité (% de la population)',\n",
       "       'Retraits annuels d’eau douce, total (% des ressources internes)',\n",
       "       'Production d’électricité à partir de sources d’énergie renouvelables, hors énergie hydroélectrique (% du total)',\n",
       "       'People using safely managed sanitation services (% of population)',\n",
       "       'Homicides intentionnels (pour 100 000 personnes)',\n",
       "       'Dette du gouvernement central, total (% du PIB)',\n",
       "       'Statistical performance indicators (SPI): Overall score (scale 0-100)',\n",
       "       'Utilisateurs d Internet (% de la population)',\n",
       "       'Proportion de sièges occupés par des femmes dans les parlements nationaux (%)',\n",
       "       'Investissements étrangers directs, entrées nettes (% du PIB)'],\n",
       "      dtype='object')"
      ]
     },
     "execution_count": 12,
     "metadata": {},
     "output_type": "execute_result"
    }
   ],
   "source": [
    "df_indicators.columns"
   ]
  },
  {
   "cell_type": "code",
   "execution_count": 13,
   "metadata": {},
   "outputs": [
    {
     "name": "stdout",
     "output_type": "stream",
     "text": [
      "<class 'pandas.core.frame.DataFrame'>\n",
      "Int64Index: 45 entries, 0 to 44\n",
      "Data columns (total 25 columns):\n",
      " #   Column                                                                                                           Non-Null Count  Dtype \n",
      "---  ------                                                                                                           --------------  ----- \n",
      " 0   Country                                                                                                          45 non-null     object\n",
      " 1   Ratio de la population pauvre disposant de moins de $ 1,90 par jour (2011 PPA) (% de la population)              45 non-null     object\n",
      " 2   Espérance de vie à la naissance, total (années)                                                                  45 non-null     object\n",
      " 3   Population, total                                                                                                45 non-null     object\n",
      " 4   Croissance de la population (% annuel)                                                                           45 non-null     object\n",
      " 5   Migration nette                                                                                                  45 non-null     object\n",
      " 6   Indice du capital humain (échelle comprise entre 0 et 1)                                                         45 non-null     object\n",
      " 7   PIB ($ US courants)current US$constant US$current LCUconstant LCU                                                45 non-null     object\n",
      " 8   PIB par habitant ($ US courants)current US$constant US$current LCUconstant LCU                                   45 non-null     object\n",
      " 9   Croissance du PIB (% annuel)                                                                                     45 non-null     object\n",
      " 10  Chômage, total (% de la population) (estimation modélisée OIT)                                                   45 non-null     object\n",
      " 11  Inflation, prix à la consommation (% annuel)                                                                     45 non-null     object\n",
      " 12  Envois de fonds des travailleurs et rémunérations des salariés, reçus (% du PIB)                                 45 non-null     object\n",
      " 13  Émissions de CO2 (tonnes métriques par habitant)                                                                 45 non-null     object\n",
      " 14  Surface forestière (% du territoire)                                                                             45 non-null     object\n",
      " 15  Accès à l’électricité (% de la population)                                                                       45 non-null     object\n",
      " 16  Retraits annuels d’eau douce, total (% des ressources internes)                                                  45 non-null     object\n",
      " 17  Production d’électricité à partir de sources d’énergie renouvelables, hors énergie hydroélectrique (% du total)  45 non-null     object\n",
      " 18  People using safely managed sanitation services (% of population)                                                45 non-null     object\n",
      " 19  Homicides intentionnels (pour 100 000 personnes)                                                                 45 non-null     object\n",
      " 20  Dette du gouvernement central, total (% du PIB)                                                                  45 non-null     object\n",
      " 21  Statistical performance indicators (SPI): Overall score (scale 0-100)                                            45 non-null     object\n",
      " 22  Utilisateurs d Internet (% de la population)                                                                     45 non-null     int64 \n",
      " 23  Proportion de sièges occupés par des femmes dans les parlements nationaux (%)                                    45 non-null     object\n",
      " 24  Investissements étrangers directs, entrées nettes (% du PIB)                                                     45 non-null     object\n",
      "dtypes: int64(1), object(24)\n",
      "memory usage: 9.1+ KB\n"
     ]
    }
   ],
   "source": [
    "df_indicators.info()"
   ]
  },
  {
   "cell_type": "code",
   "execution_count": 14,
   "metadata": {},
   "outputs": [
    {
     "data": {
      "text/plain": [
       "<bound method IndexOpsMixin.value_counts of Country                                                                                                            object\n",
       "Ratio de la population pauvre disposant de moins de $ 1,90 par jour (2011 PPA) (% de la population)                object\n",
       "Espérance de vie à la naissance, total (années)                                                                    object\n",
       "Population, total                                                                                                  object\n",
       "Croissance de la population (% annuel)                                                                             object\n",
       "Migration nette                                                                                                    object\n",
       "Indice du capital humain (échelle comprise entre 0 et 1)                                                           object\n",
       "PIB ($ US courants)current US$constant US$current LCUconstant LCU                                                  object\n",
       "PIB par habitant ($ US courants)current US$constant US$current LCUconstant LCU                                     object\n",
       "Croissance du PIB (% annuel)                                                                                       object\n",
       "Chômage, total (% de la population) (estimation modélisée OIT)                                                     object\n",
       "Inflation, prix à la consommation (% annuel)                                                                       object\n",
       "Envois de fonds des travailleurs et rémunérations des salariés, reçus (% du PIB)                                   object\n",
       "Émissions de CO2 (tonnes métriques par habitant)                                                                   object\n",
       "Surface forestière (% du territoire)                                                                               object\n",
       "Accès à l’électricité (% de la population)                                                                         object\n",
       "Retraits annuels d’eau douce, total (% des ressources internes)                                                    object\n",
       "Production d’électricité à partir de sources d’énergie renouvelables, hors énergie hydroélectrique (% du total)    object\n",
       "People using safely managed sanitation services (% of population)                                                  object\n",
       "Homicides intentionnels (pour 100 000 personnes)                                                                   object\n",
       "Dette du gouvernement central, total (% du PIB)                                                                    object\n",
       "Statistical performance indicators (SPI): Overall score (scale 0-100)                                              object\n",
       "Utilisateurs d Internet (% de la population)                                                                        int64\n",
       "Proportion de sièges occupés par des femmes dans les parlements nationaux (%)                                      object\n",
       "Investissements étrangers directs, entrées nettes (% du PIB)                                                       object\n",
       "dtype: object>"
      ]
     },
     "execution_count": 14,
     "metadata": {},
     "output_type": "execute_result"
    }
   ],
   "source": [
    "df_indicators.dtypes.value_counts"
   ]
  },
  {
   "cell_type": "code",
   "execution_count": 15,
   "metadata": {},
   "outputs": [
    {
     "data": {
      "text/html": [
       "<div>\n",
       "<style scoped>\n",
       "    .dataframe tbody tr th:only-of-type {\n",
       "        vertical-align: middle;\n",
       "    }\n",
       "\n",
       "    .dataframe tbody tr th {\n",
       "        vertical-align: top;\n",
       "    }\n",
       "\n",
       "    .dataframe thead th {\n",
       "        text-align: right;\n",
       "    }\n",
       "</style>\n",
       "<table border=\"1\" class=\"dataframe\">\n",
       "  <thead>\n",
       "    <tr style=\"text-align: right;\">\n",
       "      <th></th>\n",
       "      <th>Utilisateurs d Internet (% de la population)</th>\n",
       "    </tr>\n",
       "  </thead>\n",
       "  <tbody>\n",
       "    <tr>\n",
       "      <th>count</th>\n",
       "      <td>45.000000</td>\n",
       "    </tr>\n",
       "    <tr>\n",
       "      <th>mean</th>\n",
       "      <td>67.266667</td>\n",
       "    </tr>\n",
       "    <tr>\n",
       "      <th>std</th>\n",
       "      <td>28.162193</td>\n",
       "    </tr>\n",
       "    <tr>\n",
       "      <th>min</th>\n",
       "      <td>0.000000</td>\n",
       "    </tr>\n",
       "    <tr>\n",
       "      <th>25%</th>\n",
       "      <td>60.000000</td>\n",
       "    </tr>\n",
       "    <tr>\n",
       "      <th>50%</th>\n",
       "      <td>74.000000</td>\n",
       "    </tr>\n",
       "    <tr>\n",
       "      <th>75%</th>\n",
       "      <td>87.000000</td>\n",
       "    </tr>\n",
       "    <tr>\n",
       "      <th>max</th>\n",
       "      <td>100.000000</td>\n",
       "    </tr>\n",
       "  </tbody>\n",
       "</table>\n",
       "</div>"
      ],
      "text/plain": [
       "       Utilisateurs d Internet (% de la population)\n",
       "count                                     45.000000\n",
       "mean                                      67.266667\n",
       "std                                       28.162193\n",
       "min                                        0.000000\n",
       "25%                                       60.000000\n",
       "50%                                       74.000000\n",
       "75%                                       87.000000\n",
       "max                                      100.000000"
      ]
     },
     "execution_count": 15,
     "metadata": {},
     "output_type": "execute_result"
    }
   ],
   "source": [
    "df_indicators.describe()"
   ]
  },
  {
   "cell_type": "code",
   "execution_count": 16,
   "metadata": {},
   "outputs": [
    {
     "name": "stdout",
     "output_type": "stream",
     "text": [
      "il y'a: 1 colonne(s) de type int64\n",
      "Il y'a : 24 colonne(s) de type object\n"
     ]
    }
   ],
   "source": [
    "print(f\"il y'a: {len(df_indicators.select_dtypes('int64').columns)} colonne(s) de type int64\");\n",
    "print(f\"Il y'a : {len(df_indicators.select_dtypes('object').columns)} colonne(s) de type object\");"
   ]
  },
  {
   "cell_type": "code",
   "execution_count": 17,
   "metadata": {},
   "outputs": [
    {
     "data": {
      "text/plain": [
       "['Utilisateurs d Internet (% de la population)']"
      ]
     },
     "metadata": {},
     "output_type": "display_data"
    }
   ],
   "source": [
    "display(list(df_indicators.select_dtypes('int64').columns));"
   ]
  },
  {
   "cell_type": "code",
   "execution_count": 18,
   "metadata": {},
   "outputs": [
    {
     "data": {
      "text/plain": [
       "0    25\n",
       "dtype: int64"
      ]
     },
     "execution_count": 18,
     "metadata": {},
     "output_type": "execute_result"
    }
   ],
   "source": [
    "df_indicators.isna().sum().value_counts()"
   ]
  },
  {
   "cell_type": "markdown",
   "metadata": {},
   "source": [
    "Nettoyage des donnees"
   ]
  },
  {
   "cell_type": "code",
   "execution_count": 19,
   "metadata": {},
   "outputs": [],
   "source": [
    "df_indicators.columns = df_indicators.columns.str.lower()"
   ]
  },
  {
   "cell_type": "code",
   "execution_count": 20,
   "metadata": {},
   "outputs": [],
   "source": [
    "# strip countries names\n",
    "df_indicators['country'] = df_indicators['country'].str.strip()"
   ]
  },
  {
   "cell_type": "code",
   "execution_count": 21,
   "metadata": {},
   "outputs": [],
   "source": [
    "if \"No data available\" in df_indicators.values:\n",
    "    df_indicators = df_indicators.replace([\"No data available\"], np.nan)"
   ]
  },
  {
   "cell_type": "code",
   "execution_count": 22,
   "metadata": {},
   "outputs": [
    {
     "data": {
      "text/plain": [
       "country                                                                                                             0\n",
       "ratio de la population pauvre disposant de moins de $ 1,90 par jour (2011 ppa) (% de la population)                15\n",
       "espérance de vie à la naissance, total (années)                                                                     1\n",
       "population, total                                                                                                   0\n",
       "croissance de la population (% annuel)                                                                              0\n",
       "migration nette                                                                                                     0\n",
       "indice du capital humain (échelle comprise entre 0 et 1)                                                           12\n",
       "pib ($ us courants)current us$constant us$current lcuconstant lcu                                                   1\n",
       "pib par habitant ($ us courants)current us$constant us$current lcuconstant lcu                                      1\n",
       "croissance du pib (% annuel)                                                                                        1\n",
       "chômage, total (% de la population) (estimation modélisée oit)                                                      4\n",
       "inflation, prix à la consommation (% annuel)                                                                        5\n",
       "envois de fonds des travailleurs et rémunérations des salariés, reçus (% du pib)                                    4\n",
       "émissions de co2 (tonnes métriques par habitant)                                                                    5\n",
       "surface forestière (% du territoire)                                                                                1\n",
       "accès à l’électricité (% de la population)                                                                          0\n",
       "retraits annuels d’eau douce, total (% des ressources internes)                                                     6\n",
       "production d’électricité à partir de sources d’énergie renouvelables, hors énergie hydroélectrique (% du total)    15\n",
       "people using safely managed sanitation services (% of population)                                                  20\n",
       "homicides intentionnels (pour 100 000 personnes)                                                                    6\n",
       "dette du gouvernement central, total (% du pib)                                                                    24\n",
       "statistical performance indicators (spi): overall score (scale 0-100)                                              10\n",
       "utilisateurs d internet (% de la population)                                                                        0\n",
       "proportion de sièges occupés par des femmes dans les parlements nationaux (%)                                       5\n",
       "investissements étrangers directs, entrées nettes (% du pib)                                                        3\n",
       "dtype: int64"
      ]
     },
     "execution_count": 22,
     "metadata": {},
     "output_type": "execute_result"
    }
   ],
   "source": [
    "df_indicators.isna().sum()"
   ]
  },
  {
   "cell_type": "code",
   "execution_count": 23,
   "metadata": {},
   "outputs": [],
   "source": [
    "# we observe that numerical values are considerated as str values because of the comma\n",
    "# Replace the comma with a period and convert the column to float\n",
    "# let's first remove special caracters\n",
    "df_indicators = df_indicators.applymap(lambda x: unidecode.unidecode(str(x)))\n",
    "df_indicators = df_indicators.replace(',', '.', regex=True)"
   ]
  },
  {
   "cell_type": "code",
   "execution_count": 24,
   "metadata": {},
   "outputs": [],
   "source": [
    "#convert all columns values to numerical type except str columns\n",
    "columns_to_skip =['country']\n",
    "for column in df_indicators.select_dtypes(include='object').columns:\n",
    "    if column not in columns_to_skip:\n",
    "        df_indicators[column] = df_indicators[column].str.replace(' ', '').astype(float)"
   ]
  },
  {
   "cell_type": "markdown",
   "metadata": {},
   "source": [
    "Ce traitement a été effectué parce qu'on a remarqué que les valeurs numériques étaient considérées comme des strings"
   ]
  },
  {
   "cell_type": "code",
   "execution_count": 25,
   "metadata": {},
   "outputs": [
    {
     "data": {
      "text/plain": [
       "array([dtype('O'), dtype('float64')], dtype=object)"
      ]
     },
     "execution_count": 25,
     "metadata": {},
     "output_type": "execute_result"
    }
   ],
   "source": [
    "df_indicators.dtypes.unique()"
   ]
  },
  {
   "cell_type": "markdown",
   "metadata": {},
   "source": [
    "Gestion des données manquantes"
   ]
  },
  {
   "cell_type": "code",
   "execution_count": 26,
   "metadata": {},
   "outputs": [],
   "source": [
    "#cherchons les colonnes dont les valeurs null sont supérieures à 50%\n",
    "#les colonnes qui ont une valeur qui ne varie pas\n",
    "def find_columns_conditions(df):\n",
    "    total_rows = df.shape[0]\n",
    "    \n",
    "    colToDel = [col for col in df.columns if (df[col].isnull().sum() / total_rows) > FILTERS_PARAMS['NAN_TRESHOLD']]\n",
    "    \n",
    "    constant_cols = [col for col in df.columns if df[col].nunique() == 1]\n",
    "    \n",
    "    min_completion_cols = [col for col in df.columns if (df[col].count() / total_rows) < FILTERS_PARAMS['MIN_COMPLETION_RATE']]\n",
    "    \n",
    "    return colToDel+constant_cols+min_completion_cols"
   ]
  },
  {
   "cell_type": "code",
   "execution_count": 27,
   "metadata": {},
   "outputs": [],
   "source": [
    "cols_to_del  = find_columns_conditions(df_indicators)"
   ]
  },
  {
   "cell_type": "code",
   "execution_count": 28,
   "metadata": {},
   "outputs": [],
   "source": [
    "df_indicators.drop(columns=cols_to_del,axis=1,inplace=True)"
   ]
  },
  {
   "cell_type": "code",
   "execution_count": 29,
   "metadata": {},
   "outputs": [
    {
     "data": {
      "text/plain": [
       "24"
      ]
     },
     "execution_count": 29,
     "metadata": {},
     "output_type": "execute_result"
    }
   ],
   "source": [
    "len(df_indicators.columns)"
   ]
  },
  {
   "cell_type": "code",
   "execution_count": 30,
   "metadata": {},
   "outputs": [],
   "source": [
    "#pour imputer les données manquantes, on va utiliser la médiane qui est moins sensible aux outliers\n",
    "\n",
    "df_indicators = df_indicators.fillna(df_indicators.median(numeric_only=True))"
   ]
  },
  {
   "cell_type": "code",
   "execution_count": 31,
   "metadata": {},
   "outputs": [
    {
     "data": {
      "text/plain": [
       "country                                                                                                            0\n",
       "ratio de la population pauvre disposant de moins de $ 1,90 par jour (2011 ppa) (% de la population)                0\n",
       "espérance de vie à la naissance, total (années)                                                                    0\n",
       "population, total                                                                                                  0\n",
       "croissance de la population (% annuel)                                                                             0\n",
       "migration nette                                                                                                    0\n",
       "indice du capital humain (échelle comprise entre 0 et 1)                                                           0\n",
       "pib ($ us courants)current us$constant us$current lcuconstant lcu                                                  0\n",
       "pib par habitant ($ us courants)current us$constant us$current lcuconstant lcu                                     0\n",
       "croissance du pib (% annuel)                                                                                       0\n",
       "chômage, total (% de la population) (estimation modélisée oit)                                                     0\n",
       "inflation, prix à la consommation (% annuel)                                                                       0\n",
       "envois de fonds des travailleurs et rémunérations des salariés, reçus (% du pib)                                   0\n",
       "émissions de co2 (tonnes métriques par habitant)                                                                   0\n",
       "surface forestière (% du territoire)                                                                               0\n",
       "accès à l’électricité (% de la population)                                                                         0\n",
       "retraits annuels d’eau douce, total (% des ressources internes)                                                    0\n",
       "production d’électricité à partir de sources d’énergie renouvelables, hors énergie hydroélectrique (% du total)    0\n",
       "people using safely managed sanitation services (% of population)                                                  0\n",
       "homicides intentionnels (pour 100 000 personnes)                                                                   0\n",
       "statistical performance indicators (spi): overall score (scale 0-100)                                              0\n",
       "utilisateurs d internet (% de la population)                                                                       0\n",
       "proportion de sièges occupés par des femmes dans les parlements nationaux (%)                                      0\n",
       "investissements étrangers directs, entrées nettes (% du pib)                                                       0\n",
       "dtype: int64"
      ]
     },
     "execution_count": 31,
     "metadata": {},
     "output_type": "execute_result"
    }
   ],
   "source": [
    "df_indicators.isnull().sum()"
   ]
  },
  {
   "cell_type": "markdown",
   "metadata": {},
   "source": [
    "Supprimer les données dupliquées"
   ]
  },
  {
   "cell_type": "code",
   "execution_count": 32,
   "metadata": {},
   "outputs": [],
   "source": [
    "if len(df_indicators.duplicated().value_counts())>0:\n",
    "    # Remove duplicate rows\n",
    "    df_indicators.drop_duplicates(inplace=True)    "
   ]
  },
  {
   "cell_type": "markdown",
   "metadata": {},
   "source": [
    "Anamyser le dataset sur les codes des pays"
   ]
  },
  {
   "cell_type": "code",
   "execution_count": 33,
   "metadata": {},
   "outputs": [
    {
     "data": {
      "text/html": [
       "<div>\n",
       "<style scoped>\n",
       "    .dataframe tbody tr th:only-of-type {\n",
       "        vertical-align: middle;\n",
       "    }\n",
       "\n",
       "    .dataframe tbody tr th {\n",
       "        vertical-align: top;\n",
       "    }\n",
       "\n",
       "    .dataframe thead th {\n",
       "        text-align: right;\n",
       "    }\n",
       "</style>\n",
       "<table border=\"1\" class=\"dataframe\">\n",
       "  <thead>\n",
       "    <tr style=\"text-align: right;\">\n",
       "      <th></th>\n",
       "      <th>id</th>\n",
       "      <th>name</th>\n",
       "      <th>region</th>\n",
       "    </tr>\n",
       "  </thead>\n",
       "  <tbody>\n",
       "    <tr>\n",
       "      <th>0</th>\n",
       "      <td>ABW</td>\n",
       "      <td>Aruba</td>\n",
       "      <td>Amérique latine et Caraïbes</td>\n",
       "    </tr>\n",
       "    <tr>\n",
       "      <th>1</th>\n",
       "      <td>AFE</td>\n",
       "      <td>NaN</td>\n",
       "      <td>Agrégats</td>\n",
       "    </tr>\n",
       "    <tr>\n",
       "      <th>2</th>\n",
       "      <td>AFG</td>\n",
       "      <td>Afghanistan</td>\n",
       "      <td>Asie du Sud</td>\n",
       "    </tr>\n",
       "    <tr>\n",
       "      <th>3</th>\n",
       "      <td>AFR</td>\n",
       "      <td>NaN</td>\n",
       "      <td>Agrégats</td>\n",
       "    </tr>\n",
       "    <tr>\n",
       "      <th>4</th>\n",
       "      <td>AFW</td>\n",
       "      <td>NaN</td>\n",
       "      <td>Agrégats</td>\n",
       "    </tr>\n",
       "  </tbody>\n",
       "</table>\n",
       "</div>"
      ],
      "text/plain": [
       "    id         name                       region\n",
       "0  ABW        Aruba  Amérique latine et Caraïbes\n",
       "1  AFE          NaN                     Agrégats\n",
       "2  AFG  Afghanistan                  Asie du Sud\n",
       "3  AFR          NaN                     Agrégats\n",
       "4  AFW          NaN                     Agrégats"
      ]
     },
     "execution_count": 33,
     "metadata": {},
     "output_type": "execute_result"
    }
   ],
   "source": [
    "if('df_country_codes' in list(datasets.keys())):\n",
    "    df_country_codes = datasets['df_country_codes']\n",
    "df_country_codes.head()"
   ]
  },
  {
   "cell_type": "code",
   "execution_count": 34,
   "metadata": {},
   "outputs": [
    {
     "data": {
      "text/plain": [
       "<bound method NDFrame.describe of       id            name                           region\n",
       "0    ABW           Aruba      Amérique latine et Caraïbes\n",
       "1    AFE             NaN                         Agrégats\n",
       "2    AFG     Afghanistan                      Asie du Sud\n",
       "3    AFR             NaN                         Agrégats\n",
       "4    AFW             NaN                         Agrégats\n",
       "..   ...             ...                              ...\n",
       "292  XZN             NaN                         Agrégats\n",
       "293  YEM  Yémen, Rép. du  Afrique du Nord et Moyen-Orient\n",
       "294  ZAF  Afrique du Sud            Afrique subsaharienne\n",
       "295  ZMB          Zambie            Afrique subsaharienne\n",
       "296  ZWE        Zimbabwe            Afrique subsaharienne\n",
       "\n",
       "[297 rows x 3 columns]>"
      ]
     },
     "execution_count": 34,
     "metadata": {},
     "output_type": "execute_result"
    }
   ],
   "source": [
    "df_country_codes.describe"
   ]
  },
  {
   "cell_type": "code",
   "execution_count": 35,
   "metadata": {},
   "outputs": [
    {
     "data": {
      "text/plain": [
       "(297, 3)"
      ]
     },
     "execution_count": 35,
     "metadata": {},
     "output_type": "execute_result"
    }
   ],
   "source": [
    "df_country_codes.shape"
   ]
  },
  {
   "cell_type": "code",
   "execution_count": 36,
   "metadata": {},
   "outputs": [
    {
     "data": {
      "text/plain": [
       "id        object\n",
       "name      object\n",
       "region    object\n",
       "dtype: object"
      ]
     },
     "execution_count": 36,
     "metadata": {},
     "output_type": "execute_result"
    }
   ],
   "source": [
    "df_country_codes.dtypes"
   ]
  },
  {
   "cell_type": "code",
   "execution_count": 37,
   "metadata": {},
   "outputs": [
    {
     "data": {
      "text/plain": [
       "id         0\n",
       "name      32\n",
       "region     0\n",
       "dtype: int64"
      ]
     },
     "execution_count": 37,
     "metadata": {},
     "output_type": "execute_result"
    }
   ],
   "source": [
    "df_country_codes.isna().sum()"
   ]
  },
  {
   "cell_type": "code",
   "execution_count": 38,
   "metadata": {},
   "outputs": [],
   "source": [
    "#delete rows with name not define\n",
    "df_country_codes= df_country_codes.dropna(subset=['name'])"
   ]
  },
  {
   "cell_type": "code",
   "execution_count": 39,
   "metadata": {},
   "outputs": [
    {
     "data": {
      "text/plain": [
       "id        0\n",
       "name      0\n",
       "region    0\n",
       "dtype: int64"
      ]
     },
     "execution_count": 39,
     "metadata": {},
     "output_type": "execute_result"
    }
   ],
   "source": [
    "df_country_codes.isna().sum()"
   ]
  },
  {
   "cell_type": "code",
   "execution_count": 40,
   "metadata": {},
   "outputs": [],
   "source": [
    "#unidecode value and remove accents\n",
    "df_country_codes = df_country_codes.applymap(unidecode.unidecode)"
   ]
  },
  {
   "cell_type": "code",
   "execution_count": 41,
   "metadata": {},
   "outputs": [
    {
     "data": {
      "text/html": [
       "<div>\n",
       "<style scoped>\n",
       "    .dataframe tbody tr th:only-of-type {\n",
       "        vertical-align: middle;\n",
       "    }\n",
       "\n",
       "    .dataframe tbody tr th {\n",
       "        vertical-align: top;\n",
       "    }\n",
       "\n",
       "    .dataframe thead th {\n",
       "        text-align: right;\n",
       "    }\n",
       "</style>\n",
       "<table border=\"1\" class=\"dataframe\">\n",
       "  <thead>\n",
       "    <tr style=\"text-align: right;\">\n",
       "      <th></th>\n",
       "      <th>id</th>\n",
       "      <th>name</th>\n",
       "      <th>region</th>\n",
       "    </tr>\n",
       "  </thead>\n",
       "  <tbody>\n",
       "    <tr>\n",
       "      <th>0</th>\n",
       "      <td>ABW</td>\n",
       "      <td>Aruba</td>\n",
       "      <td>Amerique latine et Caraibes</td>\n",
       "    </tr>\n",
       "    <tr>\n",
       "      <th>2</th>\n",
       "      <td>AFG</td>\n",
       "      <td>Afghanistan</td>\n",
       "      <td>Asie du Sud</td>\n",
       "    </tr>\n",
       "    <tr>\n",
       "      <th>5</th>\n",
       "      <td>AGO</td>\n",
       "      <td>Angola</td>\n",
       "      <td>Afrique subsaharienne</td>\n",
       "    </tr>\n",
       "    <tr>\n",
       "      <th>6</th>\n",
       "      <td>ALB</td>\n",
       "      <td>Albanie</td>\n",
       "      <td>Europe et Asie centrale</td>\n",
       "    </tr>\n",
       "    <tr>\n",
       "      <th>7</th>\n",
       "      <td>AND</td>\n",
       "      <td>Andorre</td>\n",
       "      <td>Europe et Asie centrale</td>\n",
       "    </tr>\n",
       "    <tr>\n",
       "      <th>...</th>\n",
       "      <td>...</td>\n",
       "      <td>...</td>\n",
       "      <td>...</td>\n",
       "    </tr>\n",
       "    <tr>\n",
       "      <th>291</th>\n",
       "      <td>XKX</td>\n",
       "      <td>Kosovo</td>\n",
       "      <td>Europe et Asie centrale</td>\n",
       "    </tr>\n",
       "    <tr>\n",
       "      <th>293</th>\n",
       "      <td>YEM</td>\n",
       "      <td>Yemen, Rep. du</td>\n",
       "      <td>Afrique du Nord et Moyen-Orient</td>\n",
       "    </tr>\n",
       "    <tr>\n",
       "      <th>294</th>\n",
       "      <td>ZAF</td>\n",
       "      <td>Afrique du Sud</td>\n",
       "      <td>Afrique subsaharienne</td>\n",
       "    </tr>\n",
       "    <tr>\n",
       "      <th>295</th>\n",
       "      <td>ZMB</td>\n",
       "      <td>Zambie</td>\n",
       "      <td>Afrique subsaharienne</td>\n",
       "    </tr>\n",
       "    <tr>\n",
       "      <th>296</th>\n",
       "      <td>ZWE</td>\n",
       "      <td>Zimbabwe</td>\n",
       "      <td>Afrique subsaharienne</td>\n",
       "    </tr>\n",
       "  </tbody>\n",
       "</table>\n",
       "<p>265 rows × 3 columns</p>\n",
       "</div>"
      ],
      "text/plain": [
       "      id            name                           region\n",
       "0    ABW           Aruba      Amerique latine et Caraibes\n",
       "2    AFG     Afghanistan                      Asie du Sud\n",
       "5    AGO          Angola            Afrique subsaharienne\n",
       "6    ALB         Albanie          Europe et Asie centrale\n",
       "7    AND         Andorre          Europe et Asie centrale\n",
       "..   ...             ...                              ...\n",
       "291  XKX          Kosovo          Europe et Asie centrale\n",
       "293  YEM  Yemen, Rep. du  Afrique du Nord et Moyen-Orient\n",
       "294  ZAF  Afrique du Sud            Afrique subsaharienne\n",
       "295  ZMB          Zambie            Afrique subsaharienne\n",
       "296  ZWE        Zimbabwe            Afrique subsaharienne\n",
       "\n",
       "[265 rows x 3 columns]"
      ]
     },
     "execution_count": 41,
     "metadata": {},
     "output_type": "execute_result"
    }
   ],
   "source": [
    "df_country_codes"
   ]
  },
  {
   "cell_type": "code",
   "execution_count": null,
   "metadata": {},
   "outputs": [],
   "source": []
  },
  {
   "cell_type": "code",
   "execution_count": null,
   "metadata": {},
   "outputs": [],
   "source": []
  },
  {
   "cell_type": "code",
   "execution_count": null,
   "metadata": {},
   "outputs": [],
   "source": []
  },
  {
   "cell_type": "markdown",
   "metadata": {},
   "source": [
    "Analyse du dataset sur les niveaux de vies"
   ]
  },
  {
   "cell_type": "code",
   "execution_count": 42,
   "metadata": {},
   "outputs": [
    {
     "data": {
      "text/html": [
       "<div>\n",
       "<style scoped>\n",
       "    .dataframe tbody tr th:only-of-type {\n",
       "        vertical-align: middle;\n",
       "    }\n",
       "\n",
       "    .dataframe tbody tr th {\n",
       "        vertical-align: top;\n",
       "    }\n",
       "\n",
       "    .dataframe thead th {\n",
       "        text-align: right;\n",
       "    }\n",
       "</style>\n",
       "<table border=\"1\" class=\"dataframe\">\n",
       "  <thead>\n",
       "    <tr style=\"text-align: right;\">\n",
       "      <th></th>\n",
       "      <th>Economy</th>\n",
       "      <th>Code</th>\n",
       "      <th>Region</th>\n",
       "      <th>Income group</th>\n",
       "      <th>Lending category</th>\n",
       "    </tr>\n",
       "  </thead>\n",
       "  <tbody>\n",
       "    <tr>\n",
       "      <th>0</th>\n",
       "      <td>Aruba</td>\n",
       "      <td>ABW</td>\n",
       "      <td>Latin America &amp; Caribbean</td>\n",
       "      <td>High income</td>\n",
       "      <td>NaN</td>\n",
       "    </tr>\n",
       "    <tr>\n",
       "      <th>1</th>\n",
       "      <td>Afghanistan</td>\n",
       "      <td>AFG</td>\n",
       "      <td>South Asia</td>\n",
       "      <td>Low income</td>\n",
       "      <td>IDA</td>\n",
       "    </tr>\n",
       "    <tr>\n",
       "      <th>2</th>\n",
       "      <td>Angola</td>\n",
       "      <td>AGO</td>\n",
       "      <td>Sub-Saharan Africa</td>\n",
       "      <td>Lower middle income</td>\n",
       "      <td>IBRD</td>\n",
       "    </tr>\n",
       "    <tr>\n",
       "      <th>3</th>\n",
       "      <td>Albania</td>\n",
       "      <td>ALB</td>\n",
       "      <td>Europe &amp; Central Asia</td>\n",
       "      <td>Upper middle income</td>\n",
       "      <td>IBRD</td>\n",
       "    </tr>\n",
       "    <tr>\n",
       "      <th>4</th>\n",
       "      <td>Andorra</td>\n",
       "      <td>AND</td>\n",
       "      <td>Europe &amp; Central Asia</td>\n",
       "      <td>High income</td>\n",
       "      <td>NaN</td>\n",
       "    </tr>\n",
       "  </tbody>\n",
       "</table>\n",
       "</div>"
      ],
      "text/plain": [
       "       Economy Code                     Region         Income group  \\\n",
       "0        Aruba  ABW  Latin America & Caribbean          High income   \n",
       "1  Afghanistan  AFG                 South Asia           Low income   \n",
       "2       Angola  AGO         Sub-Saharan Africa  Lower middle income   \n",
       "3      Albania  ALB      Europe & Central Asia  Upper middle income   \n",
       "4      Andorra  AND      Europe & Central Asia          High income   \n",
       "\n",
       "  Lending category  \n",
       "0              NaN  \n",
       "1              IDA  \n",
       "2             IBRD  \n",
       "3             IBRD  \n",
       "4              NaN  "
      ]
     },
     "execution_count": 42,
     "metadata": {},
     "output_type": "execute_result"
    }
   ],
   "source": [
    "if('df_CLASS' in list(datasets.keys())):\n",
    "    df_CLASS = datasets['df_CLASS']\n",
    "df_CLASS.head()"
   ]
  },
  {
   "cell_type": "markdown",
   "metadata": {},
   "source": [
    "Les colonnes qui nous interesse dans cette base de données sont: le code, la région et le niveau de vie"
   ]
  },
  {
   "cell_type": "code",
   "execution_count": 43,
   "metadata": {},
   "outputs": [],
   "source": [
    "df_CLASS = df_CLASS[['Code','Region','Income group']]"
   ]
  },
  {
   "cell_type": "code",
   "execution_count": 44,
   "metadata": {},
   "outputs": [],
   "source": [
    "df_CLASS.columns = df_CLASS.columns.str.lower()"
   ]
  },
  {
   "cell_type": "code",
   "execution_count": 45,
   "metadata": {},
   "outputs": [
    {
     "data": {
      "text/plain": [
       "Index(['code', 'region', 'income group'], dtype='object')"
      ]
     },
     "execution_count": 45,
     "metadata": {},
     "output_type": "execute_result"
    }
   ],
   "source": [
    "df_CLASS.columns"
   ]
  },
  {
   "cell_type": "markdown",
   "metadata": {},
   "source": [
    "Exploration des données"
   ]
  },
  {
   "cell_type": "code",
   "execution_count": 46,
   "metadata": {},
   "outputs": [
    {
     "data": {
      "text/plain": [
       "(267, 3)"
      ]
     },
     "execution_count": 46,
     "metadata": {},
     "output_type": "execute_result"
    }
   ],
   "source": [
    "df_CLASS.shape"
   ]
  },
  {
   "cell_type": "code",
   "execution_count": 47,
   "metadata": {},
   "outputs": [
    {
     "data": {
      "text/html": [
       "<div>\n",
       "<style scoped>\n",
       "    .dataframe tbody tr th:only-of-type {\n",
       "        vertical-align: middle;\n",
       "    }\n",
       "\n",
       "    .dataframe tbody tr th {\n",
       "        vertical-align: top;\n",
       "    }\n",
       "\n",
       "    .dataframe thead th {\n",
       "        text-align: right;\n",
       "    }\n",
       "</style>\n",
       "<table border=\"1\" class=\"dataframe\">\n",
       "  <thead>\n",
       "    <tr style=\"text-align: right;\">\n",
       "      <th></th>\n",
       "      <th>code</th>\n",
       "      <th>region</th>\n",
       "      <th>income group</th>\n",
       "    </tr>\n",
       "  </thead>\n",
       "  <tbody>\n",
       "    <tr>\n",
       "      <th>count</th>\n",
       "      <td>266</td>\n",
       "      <td>218</td>\n",
       "      <td>217</td>\n",
       "    </tr>\n",
       "    <tr>\n",
       "      <th>unique</th>\n",
       "      <td>266</td>\n",
       "      <td>7</td>\n",
       "      <td>4</td>\n",
       "    </tr>\n",
       "    <tr>\n",
       "      <th>top</th>\n",
       "      <td>ABW</td>\n",
       "      <td>Europe &amp; Central Asia</td>\n",
       "      <td>High income</td>\n",
       "    </tr>\n",
       "    <tr>\n",
       "      <th>freq</th>\n",
       "      <td>1</td>\n",
       "      <td>58</td>\n",
       "      <td>83</td>\n",
       "    </tr>\n",
       "  </tbody>\n",
       "</table>\n",
       "</div>"
      ],
      "text/plain": [
       "       code                 region income group\n",
       "count   266                    218          217\n",
       "unique  266                      7            4\n",
       "top     ABW  Europe & Central Asia  High income\n",
       "freq      1                     58           83"
      ]
     },
     "execution_count": 47,
     "metadata": {},
     "output_type": "execute_result"
    }
   ],
   "source": [
    "df_CLASS.describe(include=\"all\")"
   ]
  },
  {
   "cell_type": "code",
   "execution_count": 48,
   "metadata": {},
   "outputs": [
    {
     "data": {
      "text/plain": [
       "array([dtype('O')], dtype=object)"
      ]
     },
     "execution_count": 48,
     "metadata": {},
     "output_type": "execute_result"
    }
   ],
   "source": [
    "df_CLASS.dtypes.unique()"
   ]
  },
  {
   "cell_type": "code",
   "execution_count": 49,
   "metadata": {},
   "outputs": [
    {
     "data": {
      "text/plain": [
       "code             1\n",
       "region          49\n",
       "income group    50\n",
       "dtype: int64"
      ]
     },
     "execution_count": 49,
     "metadata": {},
     "output_type": "execute_result"
    }
   ],
   "source": [
    "df_CLASS.isna().sum()"
   ]
  },
  {
   "cell_type": "code",
   "execution_count": 50,
   "metadata": {},
   "outputs": [
    {
     "data": {
      "text/plain": [
       "218"
      ]
     },
     "execution_count": 50,
     "metadata": {},
     "output_type": "execute_result"
    }
   ],
   "source": [
    "len(df_CLASS['region']) - df_CLASS['region'].isna().sum()"
   ]
  },
  {
   "cell_type": "markdown",
   "metadata": {},
   "source": [
    "Cette différence est au nombre total de pays existants dans le monde. \n",
    "Pour l'imputation des données manquantes, on pourra supprimer les lignes qui ont une valeur nulle dans la colonne \"region\"."
   ]
  },
  {
   "cell_type": "markdown",
   "metadata": {},
   "source": [
    "Gestion des valeurs manquantes"
   ]
  },
  {
   "cell_type": "code",
   "execution_count": 51,
   "metadata": {},
   "outputs": [],
   "source": [
    "# Drop rows with missing values in the 'region' column\n",
    "df_CLASS = df_CLASS.dropna(subset=['region'])"
   ]
  },
  {
   "cell_type": "code",
   "execution_count": 52,
   "metadata": {},
   "outputs": [
    {
     "data": {
      "text/html": [
       "<div>\n",
       "<style scoped>\n",
       "    .dataframe tbody tr th:only-of-type {\n",
       "        vertical-align: middle;\n",
       "    }\n",
       "\n",
       "    .dataframe tbody tr th {\n",
       "        vertical-align: top;\n",
       "    }\n",
       "\n",
       "    .dataframe thead th {\n",
       "        text-align: right;\n",
       "    }\n",
       "</style>\n",
       "<table border=\"1\" class=\"dataframe\">\n",
       "  <thead>\n",
       "    <tr style=\"text-align: right;\">\n",
       "      <th></th>\n",
       "      <th>code</th>\n",
       "      <th>region</th>\n",
       "      <th>income group</th>\n",
       "    </tr>\n",
       "  </thead>\n",
       "  <tbody>\n",
       "    <tr>\n",
       "      <th>0</th>\n",
       "      <td>ABW</td>\n",
       "      <td>Latin America &amp; Caribbean</td>\n",
       "      <td>High income</td>\n",
       "    </tr>\n",
       "    <tr>\n",
       "      <th>1</th>\n",
       "      <td>AFG</td>\n",
       "      <td>South Asia</td>\n",
       "      <td>Low income</td>\n",
       "    </tr>\n",
       "    <tr>\n",
       "      <th>2</th>\n",
       "      <td>AGO</td>\n",
       "      <td>Sub-Saharan Africa</td>\n",
       "      <td>Lower middle income</td>\n",
       "    </tr>\n",
       "    <tr>\n",
       "      <th>3</th>\n",
       "      <td>ALB</td>\n",
       "      <td>Europe &amp; Central Asia</td>\n",
       "      <td>Upper middle income</td>\n",
       "    </tr>\n",
       "    <tr>\n",
       "      <th>4</th>\n",
       "      <td>AND</td>\n",
       "      <td>Europe &amp; Central Asia</td>\n",
       "      <td>High income</td>\n",
       "    </tr>\n",
       "    <tr>\n",
       "      <th>...</th>\n",
       "      <td>...</td>\n",
       "      <td>...</td>\n",
       "      <td>...</td>\n",
       "    </tr>\n",
       "    <tr>\n",
       "      <th>213</th>\n",
       "      <td>XKX</td>\n",
       "      <td>Europe &amp; Central Asia</td>\n",
       "      <td>Upper middle income</td>\n",
       "    </tr>\n",
       "    <tr>\n",
       "      <th>214</th>\n",
       "      <td>YEM</td>\n",
       "      <td>Middle East &amp; North Africa</td>\n",
       "      <td>Low income</td>\n",
       "    </tr>\n",
       "    <tr>\n",
       "      <th>215</th>\n",
       "      <td>ZAF</td>\n",
       "      <td>Sub-Saharan Africa</td>\n",
       "      <td>Upper middle income</td>\n",
       "    </tr>\n",
       "    <tr>\n",
       "      <th>216</th>\n",
       "      <td>ZMB</td>\n",
       "      <td>Sub-Saharan Africa</td>\n",
       "      <td>Lower middle income</td>\n",
       "    </tr>\n",
       "    <tr>\n",
       "      <th>217</th>\n",
       "      <td>ZWE</td>\n",
       "      <td>Sub-Saharan Africa</td>\n",
       "      <td>Lower middle income</td>\n",
       "    </tr>\n",
       "  </tbody>\n",
       "</table>\n",
       "<p>218 rows × 3 columns</p>\n",
       "</div>"
      ],
      "text/plain": [
       "    code                      region         income group\n",
       "0    ABW   Latin America & Caribbean          High income\n",
       "1    AFG                  South Asia           Low income\n",
       "2    AGO          Sub-Saharan Africa  Lower middle income\n",
       "3    ALB       Europe & Central Asia  Upper middle income\n",
       "4    AND       Europe & Central Asia          High income\n",
       "..   ...                         ...                  ...\n",
       "213  XKX       Europe & Central Asia  Upper middle income\n",
       "214  YEM  Middle East & North Africa           Low income\n",
       "215  ZAF          Sub-Saharan Africa  Upper middle income\n",
       "216  ZMB          Sub-Saharan Africa  Lower middle income\n",
       "217  ZWE          Sub-Saharan Africa  Lower middle income\n",
       "\n",
       "[218 rows x 3 columns]"
      ]
     },
     "execution_count": 52,
     "metadata": {},
     "output_type": "execute_result"
    }
   ],
   "source": [
    "df_CLASS"
   ]
  },
  {
   "cell_type": "code",
   "execution_count": 53,
   "metadata": {},
   "outputs": [
    {
     "data": {
      "text/plain": [
       "code            0\n",
       "region          0\n",
       "income group    1\n",
       "dtype: int64"
      ]
     },
     "execution_count": 53,
     "metadata": {},
     "output_type": "execute_result"
    }
   ],
   "source": [
    "df_CLASS.isna().sum()"
   ]
  },
  {
   "cell_type": "code",
   "execution_count": 54,
   "metadata": {},
   "outputs": [],
   "source": [
    "mode_value = df_CLASS['income group'].mode().iloc[0]\n",
    "# Impute missing values in the specified income group with the mode\n",
    "df_CLASS['income group'] = df_CLASS['income group'].fillna(mode_value)"
   ]
  },
  {
   "cell_type": "code",
   "execution_count": 55,
   "metadata": {},
   "outputs": [
    {
     "data": {
      "text/plain": [
       "code            0\n",
       "region          0\n",
       "income group    0\n",
       "dtype: int64"
      ]
     },
     "execution_count": 55,
     "metadata": {},
     "output_type": "execute_result"
    }
   ],
   "source": [
    "df_CLASS.isna().sum()"
   ]
  },
  {
   "cell_type": "code",
   "execution_count": 56,
   "metadata": {},
   "outputs": [
    {
     "data": {
      "text/html": [
       "<div>\n",
       "<style scoped>\n",
       "    .dataframe tbody tr th:only-of-type {\n",
       "        vertical-align: middle;\n",
       "    }\n",
       "\n",
       "    .dataframe tbody tr th {\n",
       "        vertical-align: top;\n",
       "    }\n",
       "\n",
       "    .dataframe thead th {\n",
       "        text-align: right;\n",
       "    }\n",
       "</style>\n",
       "<table border=\"1\" class=\"dataframe\">\n",
       "  <thead>\n",
       "    <tr style=\"text-align: right;\">\n",
       "      <th></th>\n",
       "      <th>id</th>\n",
       "      <th>name</th>\n",
       "      <th>region</th>\n",
       "    </tr>\n",
       "  </thead>\n",
       "  <tbody>\n",
       "    <tr>\n",
       "      <th>0</th>\n",
       "      <td>ABW</td>\n",
       "      <td>Aruba</td>\n",
       "      <td>Amerique latine et Caraibes</td>\n",
       "    </tr>\n",
       "    <tr>\n",
       "      <th>2</th>\n",
       "      <td>AFG</td>\n",
       "      <td>Afghanistan</td>\n",
       "      <td>Asie du Sud</td>\n",
       "    </tr>\n",
       "    <tr>\n",
       "      <th>5</th>\n",
       "      <td>AGO</td>\n",
       "      <td>Angola</td>\n",
       "      <td>Afrique subsaharienne</td>\n",
       "    </tr>\n",
       "    <tr>\n",
       "      <th>6</th>\n",
       "      <td>ALB</td>\n",
       "      <td>Albanie</td>\n",
       "      <td>Europe et Asie centrale</td>\n",
       "    </tr>\n",
       "    <tr>\n",
       "      <th>7</th>\n",
       "      <td>AND</td>\n",
       "      <td>Andorre</td>\n",
       "      <td>Europe et Asie centrale</td>\n",
       "    </tr>\n",
       "  </tbody>\n",
       "</table>\n",
       "</div>"
      ],
      "text/plain": [
       "    id         name                       region\n",
       "0  ABW        Aruba  Amerique latine et Caraibes\n",
       "2  AFG  Afghanistan                  Asie du Sud\n",
       "5  AGO       Angola        Afrique subsaharienne\n",
       "6  ALB      Albanie      Europe et Asie centrale\n",
       "7  AND      Andorre      Europe et Asie centrale"
      ]
     },
     "execution_count": 56,
     "metadata": {},
     "output_type": "execute_result"
    }
   ],
   "source": [
    "df_country_codes.head()"
   ]
  },
  {
   "cell_type": "code",
   "execution_count": 57,
   "metadata": {},
   "outputs": [
    {
     "data": {
      "text/html": [
       "<div>\n",
       "<style scoped>\n",
       "    .dataframe tbody tr th:only-of-type {\n",
       "        vertical-align: middle;\n",
       "    }\n",
       "\n",
       "    .dataframe tbody tr th {\n",
       "        vertical-align: top;\n",
       "    }\n",
       "\n",
       "    .dataframe thead th {\n",
       "        text-align: right;\n",
       "    }\n",
       "</style>\n",
       "<table border=\"1\" class=\"dataframe\">\n",
       "  <thead>\n",
       "    <tr style=\"text-align: right;\">\n",
       "      <th></th>\n",
       "      <th>country</th>\n",
       "      <th>ratio de la population pauvre disposant de moins de $ 1,90 par jour (2011 ppa) (% de la population)</th>\n",
       "      <th>espérance de vie à la naissance, total (années)</th>\n",
       "      <th>population, total</th>\n",
       "      <th>croissance de la population (% annuel)</th>\n",
       "      <th>migration nette</th>\n",
       "      <th>indice du capital humain (échelle comprise entre 0 et 1)</th>\n",
       "      <th>pib ($ us courants)current us$constant us$current lcuconstant lcu</th>\n",
       "      <th>pib par habitant ($ us courants)current us$constant us$current lcuconstant lcu</th>\n",
       "      <th>croissance du pib (% annuel)</th>\n",
       "      <th>...</th>\n",
       "      <th>surface forestière (% du territoire)</th>\n",
       "      <th>accès à l’électricité (% de la population)</th>\n",
       "      <th>retraits annuels d’eau douce, total (% des ressources internes)</th>\n",
       "      <th>production d’électricité à partir de sources d’énergie renouvelables, hors énergie hydroélectrique (% du total)</th>\n",
       "      <th>people using safely managed sanitation services (% of population)</th>\n",
       "      <th>homicides intentionnels (pour 100 000 personnes)</th>\n",
       "      <th>statistical performance indicators (spi): overall score (scale 0-100)</th>\n",
       "      <th>utilisateurs d internet (% de la population)</th>\n",
       "      <th>proportion de sièges occupés par des femmes dans les parlements nationaux (%)</th>\n",
       "      <th>investissements étrangers directs, entrées nettes (% du pib)</th>\n",
       "    </tr>\n",
       "  </thead>\n",
       "  <tbody>\n",
       "    <tr>\n",
       "      <th>0</th>\n",
       "      <td>Afghanistan</td>\n",
       "      <td>2.8</td>\n",
       "      <td>62.0</td>\n",
       "      <td>41128771.0</td>\n",
       "      <td>2.5</td>\n",
       "      <td>-183672.0</td>\n",
       "      <td>0.4</td>\n",
       "      <td>14.58</td>\n",
       "      <td>363.7</td>\n",
       "      <td>-20.7</td>\n",
       "      <td>...</td>\n",
       "      <td>1.9</td>\n",
       "      <td>97.7</td>\n",
       "      <td>43.0</td>\n",
       "      <td>0.65</td>\n",
       "      <td>59.0</td>\n",
       "      <td>4.0</td>\n",
       "      <td>49.8</td>\n",
       "      <td>18.0</td>\n",
       "      <td>27.0</td>\n",
       "      <td>0.1</td>\n",
       "    </tr>\n",
       "    <tr>\n",
       "      <th>1</th>\n",
       "      <td>Afrique du Sud</td>\n",
       "      <td>20.5</td>\n",
       "      <td>62.0</td>\n",
       "      <td>59893885.0</td>\n",
       "      <td>0.8</td>\n",
       "      <td>10934.0</td>\n",
       "      <td>0.4</td>\n",
       "      <td>405.87</td>\n",
       "      <td>6776.5</td>\n",
       "      <td>2.0</td>\n",
       "      <td>...</td>\n",
       "      <td>14.1</td>\n",
       "      <td>89.3</td>\n",
       "      <td>45.0</td>\n",
       "      <td>1.90</td>\n",
       "      <td>59.0</td>\n",
       "      <td>42.0</td>\n",
       "      <td>73.5</td>\n",
       "      <td>72.0</td>\n",
       "      <td>47.0</td>\n",
       "      <td>2.2</td>\n",
       "    </tr>\n",
       "    <tr>\n",
       "      <th>2</th>\n",
       "      <td>Albanie</td>\n",
       "      <td>0.0</td>\n",
       "      <td>76.0</td>\n",
       "      <td>2775634.0</td>\n",
       "      <td>-1.3</td>\n",
       "      <td>-10612.0</td>\n",
       "      <td>0.6</td>\n",
       "      <td>18.88</td>\n",
       "      <td>6802.8</td>\n",
       "      <td>4.8</td>\n",
       "      <td>...</td>\n",
       "      <td>28.8</td>\n",
       "      <td>100.0</td>\n",
       "      <td>3.0</td>\n",
       "      <td>0.00</td>\n",
       "      <td>48.0</td>\n",
       "      <td>2.0</td>\n",
       "      <td>75.4</td>\n",
       "      <td>79.0</td>\n",
       "      <td>36.0</td>\n",
       "      <td>7.6</td>\n",
       "    </tr>\n",
       "    <tr>\n",
       "      <th>3</th>\n",
       "      <td>Algerie</td>\n",
       "      <td>0.5</td>\n",
       "      <td>76.0</td>\n",
       "      <td>44903225.0</td>\n",
       "      <td>1.6</td>\n",
       "      <td>-18797.0</td>\n",
       "      <td>0.5</td>\n",
       "      <td>191.91</td>\n",
       "      <td>4273.9</td>\n",
       "      <td>3.1</td>\n",
       "      <td>...</td>\n",
       "      <td>0.8</td>\n",
       "      <td>99.8</td>\n",
       "      <td>87.0</td>\n",
       "      <td>0.10</td>\n",
       "      <td>18.0</td>\n",
       "      <td>2.0</td>\n",
       "      <td>55.1</td>\n",
       "      <td>71.0</td>\n",
       "      <td>8.0</td>\n",
       "      <td>0.0</td>\n",
       "    </tr>\n",
       "    <tr>\n",
       "      <th>4</th>\n",
       "      <td>Andorre</td>\n",
       "      <td>2.8</td>\n",
       "      <td>73.0</td>\n",
       "      <td>79824.0</td>\n",
       "      <td>1.0</td>\n",
       "      <td>1377.0</td>\n",
       "      <td>0.6</td>\n",
       "      <td>3.35</td>\n",
       "      <td>41992.8</td>\n",
       "      <td>8.8</td>\n",
       "      <td>...</td>\n",
       "      <td>34.0</td>\n",
       "      <td>100.0</td>\n",
       "      <td>6.0</td>\n",
       "      <td>0.65</td>\n",
       "      <td>100.0</td>\n",
       "      <td>3.0</td>\n",
       "      <td>58.2</td>\n",
       "      <td>94.0</td>\n",
       "      <td>46.0</td>\n",
       "      <td>2.3</td>\n",
       "    </tr>\n",
       "  </tbody>\n",
       "</table>\n",
       "<p>5 rows × 24 columns</p>\n",
       "</div>"
      ],
      "text/plain": [
       "          country  \\\n",
       "0     Afghanistan   \n",
       "1  Afrique du Sud   \n",
       "2         Albanie   \n",
       "3         Algerie   \n",
       "4         Andorre   \n",
       "\n",
       "   ratio de la population pauvre disposant de moins de $ 1,90 par jour (2011 ppa) (% de la population)  \\\n",
       "0                                                2.8                                                     \n",
       "1                                               20.5                                                     \n",
       "2                                                0.0                                                     \n",
       "3                                                0.5                                                     \n",
       "4                                                2.8                                                     \n",
       "\n",
       "   espérance de vie à la naissance, total (années)  population, total  \\\n",
       "0                                             62.0         41128771.0   \n",
       "1                                             62.0         59893885.0   \n",
       "2                                             76.0          2775634.0   \n",
       "3                                             76.0         44903225.0   \n",
       "4                                             73.0            79824.0   \n",
       "\n",
       "   croissance de la population (% annuel)  migration nette  \\\n",
       "0                                     2.5        -183672.0   \n",
       "1                                     0.8          10934.0   \n",
       "2                                    -1.3         -10612.0   \n",
       "3                                     1.6         -18797.0   \n",
       "4                                     1.0           1377.0   \n",
       "\n",
       "   indice du capital humain (échelle comprise entre 0 et 1)  \\\n",
       "0                                                0.4          \n",
       "1                                                0.4          \n",
       "2                                                0.6          \n",
       "3                                                0.5          \n",
       "4                                                0.6          \n",
       "\n",
       "   pib ($ us courants)current us$constant us$current lcuconstant lcu  \\\n",
       "0                                              14.58                   \n",
       "1                                             405.87                   \n",
       "2                                              18.88                   \n",
       "3                                             191.91                   \n",
       "4                                               3.35                   \n",
       "\n",
       "   pib par habitant ($ us courants)current us$constant us$current lcuconstant lcu  \\\n",
       "0                                              363.7                                \n",
       "1                                             6776.5                                \n",
       "2                                             6802.8                                \n",
       "3                                             4273.9                                \n",
       "4                                            41992.8                                \n",
       "\n",
       "   croissance du pib (% annuel)  ...  surface forestière (% du territoire)  \\\n",
       "0                         -20.7  ...                                   1.9   \n",
       "1                           2.0  ...                                  14.1   \n",
       "2                           4.8  ...                                  28.8   \n",
       "3                           3.1  ...                                   0.8   \n",
       "4                           8.8  ...                                  34.0   \n",
       "\n",
       "   accès à l’électricité (% de la population)  \\\n",
       "0                                        97.7   \n",
       "1                                        89.3   \n",
       "2                                       100.0   \n",
       "3                                        99.8   \n",
       "4                                       100.0   \n",
       "\n",
       "   retraits annuels d’eau douce, total (% des ressources internes)  \\\n",
       "0                                               43.0                 \n",
       "1                                               45.0                 \n",
       "2                                                3.0                 \n",
       "3                                               87.0                 \n",
       "4                                                6.0                 \n",
       "\n",
       "   production d’électricité à partir de sources d’énergie renouvelables, hors énergie hydroélectrique (% du total)  \\\n",
       "0                                               0.65                                                                 \n",
       "1                                               1.90                                                                 \n",
       "2                                               0.00                                                                 \n",
       "3                                               0.10                                                                 \n",
       "4                                               0.65                                                                 \n",
       "\n",
       "   people using safely managed sanitation services (% of population)  \\\n",
       "0                                               59.0                   \n",
       "1                                               59.0                   \n",
       "2                                               48.0                   \n",
       "3                                               18.0                   \n",
       "4                                              100.0                   \n",
       "\n",
       "   homicides intentionnels (pour 100 000 personnes)  \\\n",
       "0                                               4.0   \n",
       "1                                              42.0   \n",
       "2                                               2.0   \n",
       "3                                               2.0   \n",
       "4                                               3.0   \n",
       "\n",
       "   statistical performance indicators (spi): overall score (scale 0-100)  \\\n",
       "0                                               49.8                       \n",
       "1                                               73.5                       \n",
       "2                                               75.4                       \n",
       "3                                               55.1                       \n",
       "4                                               58.2                       \n",
       "\n",
       "   utilisateurs d internet (% de la population)  \\\n",
       "0                                          18.0   \n",
       "1                                          72.0   \n",
       "2                                          79.0   \n",
       "3                                          71.0   \n",
       "4                                          94.0   \n",
       "\n",
       "   proportion de sièges occupés par des femmes dans les parlements nationaux (%)  \\\n",
       "0                                               27.0                               \n",
       "1                                               47.0                               \n",
       "2                                               36.0                               \n",
       "3                                                8.0                               \n",
       "4                                               46.0                               \n",
       "\n",
       "   investissements étrangers directs, entrées nettes (% du pib)  \n",
       "0                                                0.1             \n",
       "1                                                2.2             \n",
       "2                                                7.6             \n",
       "3                                                0.0             \n",
       "4                                                2.3             \n",
       "\n",
       "[5 rows x 24 columns]"
      ]
     },
     "execution_count": 57,
     "metadata": {},
     "output_type": "execute_result"
    }
   ],
   "source": [
    "df_indicators.head()"
   ]
  },
  {
   "cell_type": "code",
   "execution_count": 58,
   "metadata": {},
   "outputs": [
    {
     "data": {
      "text/html": [
       "<div>\n",
       "<style scoped>\n",
       "    .dataframe tbody tr th:only-of-type {\n",
       "        vertical-align: middle;\n",
       "    }\n",
       "\n",
       "    .dataframe tbody tr th {\n",
       "        vertical-align: top;\n",
       "    }\n",
       "\n",
       "    .dataframe thead th {\n",
       "        text-align: right;\n",
       "    }\n",
       "</style>\n",
       "<table border=\"1\" class=\"dataframe\">\n",
       "  <thead>\n",
       "    <tr style=\"text-align: right;\">\n",
       "      <th></th>\n",
       "      <th>code</th>\n",
       "      <th>region</th>\n",
       "      <th>income group</th>\n",
       "    </tr>\n",
       "  </thead>\n",
       "  <tbody>\n",
       "    <tr>\n",
       "      <th>0</th>\n",
       "      <td>ABW</td>\n",
       "      <td>Latin America &amp; Caribbean</td>\n",
       "      <td>High income</td>\n",
       "    </tr>\n",
       "    <tr>\n",
       "      <th>1</th>\n",
       "      <td>AFG</td>\n",
       "      <td>South Asia</td>\n",
       "      <td>Low income</td>\n",
       "    </tr>\n",
       "    <tr>\n",
       "      <th>2</th>\n",
       "      <td>AGO</td>\n",
       "      <td>Sub-Saharan Africa</td>\n",
       "      <td>Lower middle income</td>\n",
       "    </tr>\n",
       "    <tr>\n",
       "      <th>3</th>\n",
       "      <td>ALB</td>\n",
       "      <td>Europe &amp; Central Asia</td>\n",
       "      <td>Upper middle income</td>\n",
       "    </tr>\n",
       "    <tr>\n",
       "      <th>4</th>\n",
       "      <td>AND</td>\n",
       "      <td>Europe &amp; Central Asia</td>\n",
       "      <td>High income</td>\n",
       "    </tr>\n",
       "  </tbody>\n",
       "</table>\n",
       "</div>"
      ],
      "text/plain": [
       "  code                     region         income group\n",
       "0  ABW  Latin America & Caribbean          High income\n",
       "1  AFG                 South Asia           Low income\n",
       "2  AGO         Sub-Saharan Africa  Lower middle income\n",
       "3  ALB      Europe & Central Asia  Upper middle income\n",
       "4  AND      Europe & Central Asia          High income"
      ]
     },
     "execution_count": 58,
     "metadata": {},
     "output_type": "execute_result"
    }
   ],
   "source": [
    "df_CLASS.head()"
   ]
  },
  {
   "cell_type": "code",
   "execution_count": 59,
   "metadata": {},
   "outputs": [],
   "source": [
    "countries_to_save = df_indicators['country'].tolist()\n",
    "df_country_codes_matched = df_country_codes[df_country_codes['name'].isin(countries_to_save)]"
   ]
  },
  {
   "cell_type": "code",
   "execution_count": 60,
   "metadata": {},
   "outputs": [],
   "source": [
    "merged_df_1 = pd.merge(left=df_country_codes, right=df_indicators, left_on='name', right_on='country', how='left')\n"
   ]
  },
  {
   "cell_type": "code",
   "execution_count": 61,
   "metadata": {},
   "outputs": [
    {
     "data": {
      "text/html": [
       "<div>\n",
       "<style scoped>\n",
       "    .dataframe tbody tr th:only-of-type {\n",
       "        vertical-align: middle;\n",
       "    }\n",
       "\n",
       "    .dataframe tbody tr th {\n",
       "        vertical-align: top;\n",
       "    }\n",
       "\n",
       "    .dataframe thead th {\n",
       "        text-align: right;\n",
       "    }\n",
       "</style>\n",
       "<table border=\"1\" class=\"dataframe\">\n",
       "  <thead>\n",
       "    <tr style=\"text-align: right;\">\n",
       "      <th></th>\n",
       "      <th>id</th>\n",
       "      <th>name</th>\n",
       "      <th>region</th>\n",
       "      <th>country</th>\n",
       "      <th>ratio de la population pauvre disposant de moins de $ 1,90 par jour (2011 ppa) (% de la population)</th>\n",
       "      <th>espérance de vie à la naissance, total (années)</th>\n",
       "      <th>population, total</th>\n",
       "      <th>croissance de la population (% annuel)</th>\n",
       "      <th>migration nette</th>\n",
       "      <th>indice du capital humain (échelle comprise entre 0 et 1)</th>\n",
       "      <th>...</th>\n",
       "      <th>surface forestière (% du territoire)</th>\n",
       "      <th>accès à l’électricité (% de la population)</th>\n",
       "      <th>retraits annuels d’eau douce, total (% des ressources internes)</th>\n",
       "      <th>production d’électricité à partir de sources d’énergie renouvelables, hors énergie hydroélectrique (% du total)</th>\n",
       "      <th>people using safely managed sanitation services (% of population)</th>\n",
       "      <th>homicides intentionnels (pour 100 000 personnes)</th>\n",
       "      <th>statistical performance indicators (spi): overall score (scale 0-100)</th>\n",
       "      <th>utilisateurs d internet (% de la population)</th>\n",
       "      <th>proportion de sièges occupés par des femmes dans les parlements nationaux (%)</th>\n",
       "      <th>investissements étrangers directs, entrées nettes (% du pib)</th>\n",
       "    </tr>\n",
       "  </thead>\n",
       "  <tbody>\n",
       "    <tr>\n",
       "      <th>0</th>\n",
       "      <td>ABW</td>\n",
       "      <td>Aruba</td>\n",
       "      <td>Amerique latine et Caraibes</td>\n",
       "      <td>Aruba</td>\n",
       "      <td>2.8</td>\n",
       "      <td>75.0</td>\n",
       "      <td>106445.0</td>\n",
       "      <td>-0.1</td>\n",
       "      <td>501.0</td>\n",
       "      <td>0.6</td>\n",
       "      <td>...</td>\n",
       "      <td>2.3</td>\n",
       "      <td>100.0</td>\n",
       "      <td>6.0</td>\n",
       "      <td>0.65</td>\n",
       "      <td>59.0</td>\n",
       "      <td>2.0</td>\n",
       "      <td>58.2</td>\n",
       "      <td>97.0</td>\n",
       "      <td>24.5</td>\n",
       "      <td>4.3</td>\n",
       "    </tr>\n",
       "    <tr>\n",
       "      <th>1</th>\n",
       "      <td>AFG</td>\n",
       "      <td>Afghanistan</td>\n",
       "      <td>Asie du Sud</td>\n",
       "      <td>Afghanistan</td>\n",
       "      <td>2.8</td>\n",
       "      <td>62.0</td>\n",
       "      <td>41128771.0</td>\n",
       "      <td>2.5</td>\n",
       "      <td>-183672.0</td>\n",
       "      <td>0.4</td>\n",
       "      <td>...</td>\n",
       "      <td>1.9</td>\n",
       "      <td>97.7</td>\n",
       "      <td>43.0</td>\n",
       "      <td>0.65</td>\n",
       "      <td>59.0</td>\n",
       "      <td>4.0</td>\n",
       "      <td>49.8</td>\n",
       "      <td>18.0</td>\n",
       "      <td>27.0</td>\n",
       "      <td>0.1</td>\n",
       "    </tr>\n",
       "    <tr>\n",
       "      <th>2</th>\n",
       "      <td>AGO</td>\n",
       "      <td>Angola</td>\n",
       "      <td>Afrique subsaharienne</td>\n",
       "      <td>Angola</td>\n",
       "      <td>31.1</td>\n",
       "      <td>62.0</td>\n",
       "      <td>35588987.0</td>\n",
       "      <td>3.1</td>\n",
       "      <td>29089.0</td>\n",
       "      <td>0.4</td>\n",
       "      <td>...</td>\n",
       "      <td>53.4</td>\n",
       "      <td>48.2</td>\n",
       "      <td>0.0</td>\n",
       "      <td>0.00</td>\n",
       "      <td>59.0</td>\n",
       "      <td>4.0</td>\n",
       "      <td>54.9</td>\n",
       "      <td>33.0</td>\n",
       "      <td>34.0</td>\n",
       "      <td>-5.8</td>\n",
       "    </tr>\n",
       "    <tr>\n",
       "      <th>3</th>\n",
       "      <td>ALB</td>\n",
       "      <td>Albanie</td>\n",
       "      <td>Europe et Asie centrale</td>\n",
       "      <td>Albanie</td>\n",
       "      <td>0.0</td>\n",
       "      <td>76.0</td>\n",
       "      <td>2775634.0</td>\n",
       "      <td>-1.3</td>\n",
       "      <td>-10612.0</td>\n",
       "      <td>0.6</td>\n",
       "      <td>...</td>\n",
       "      <td>28.8</td>\n",
       "      <td>100.0</td>\n",
       "      <td>3.0</td>\n",
       "      <td>0.00</td>\n",
       "      <td>48.0</td>\n",
       "      <td>2.0</td>\n",
       "      <td>75.4</td>\n",
       "      <td>79.0</td>\n",
       "      <td>36.0</td>\n",
       "      <td>7.6</td>\n",
       "    </tr>\n",
       "    <tr>\n",
       "      <th>4</th>\n",
       "      <td>AND</td>\n",
       "      <td>Andorre</td>\n",
       "      <td>Europe et Asie centrale</td>\n",
       "      <td>Andorre</td>\n",
       "      <td>2.8</td>\n",
       "      <td>73.0</td>\n",
       "      <td>79824.0</td>\n",
       "      <td>1.0</td>\n",
       "      <td>1377.0</td>\n",
       "      <td>0.6</td>\n",
       "      <td>...</td>\n",
       "      <td>34.0</td>\n",
       "      <td>100.0</td>\n",
       "      <td>6.0</td>\n",
       "      <td>0.65</td>\n",
       "      <td>100.0</td>\n",
       "      <td>3.0</td>\n",
       "      <td>58.2</td>\n",
       "      <td>94.0</td>\n",
       "      <td>46.0</td>\n",
       "      <td>2.3</td>\n",
       "    </tr>\n",
       "    <tr>\n",
       "      <th>...</th>\n",
       "      <td>...</td>\n",
       "      <td>...</td>\n",
       "      <td>...</td>\n",
       "      <td>...</td>\n",
       "      <td>...</td>\n",
       "      <td>...</td>\n",
       "      <td>...</td>\n",
       "      <td>...</td>\n",
       "      <td>...</td>\n",
       "      <td>...</td>\n",
       "      <td>...</td>\n",
       "      <td>...</td>\n",
       "      <td>...</td>\n",
       "      <td>...</td>\n",
       "      <td>...</td>\n",
       "      <td>...</td>\n",
       "      <td>...</td>\n",
       "      <td>...</td>\n",
       "      <td>...</td>\n",
       "      <td>...</td>\n",
       "      <td>...</td>\n",
       "    </tr>\n",
       "    <tr>\n",
       "      <th>260</th>\n",
       "      <td>XKX</td>\n",
       "      <td>Kosovo</td>\n",
       "      <td>Europe et Asie centrale</td>\n",
       "      <td>NaN</td>\n",
       "      <td>NaN</td>\n",
       "      <td>NaN</td>\n",
       "      <td>NaN</td>\n",
       "      <td>NaN</td>\n",
       "      <td>NaN</td>\n",
       "      <td>NaN</td>\n",
       "      <td>...</td>\n",
       "      <td>NaN</td>\n",
       "      <td>NaN</td>\n",
       "      <td>NaN</td>\n",
       "      <td>NaN</td>\n",
       "      <td>NaN</td>\n",
       "      <td>NaN</td>\n",
       "      <td>NaN</td>\n",
       "      <td>NaN</td>\n",
       "      <td>NaN</td>\n",
       "      <td>NaN</td>\n",
       "    </tr>\n",
       "    <tr>\n",
       "      <th>261</th>\n",
       "      <td>YEM</td>\n",
       "      <td>Yemen, Rep. du</td>\n",
       "      <td>Afrique du Nord et Moyen-Orient</td>\n",
       "      <td>NaN</td>\n",
       "      <td>NaN</td>\n",
       "      <td>NaN</td>\n",
       "      <td>NaN</td>\n",
       "      <td>NaN</td>\n",
       "      <td>NaN</td>\n",
       "      <td>NaN</td>\n",
       "      <td>...</td>\n",
       "      <td>NaN</td>\n",
       "      <td>NaN</td>\n",
       "      <td>NaN</td>\n",
       "      <td>NaN</td>\n",
       "      <td>NaN</td>\n",
       "      <td>NaN</td>\n",
       "      <td>NaN</td>\n",
       "      <td>NaN</td>\n",
       "      <td>NaN</td>\n",
       "      <td>NaN</td>\n",
       "    </tr>\n",
       "    <tr>\n",
       "      <th>262</th>\n",
       "      <td>ZAF</td>\n",
       "      <td>Afrique du Sud</td>\n",
       "      <td>Afrique subsaharienne</td>\n",
       "      <td>Afrique du Sud</td>\n",
       "      <td>20.5</td>\n",
       "      <td>62.0</td>\n",
       "      <td>59893885.0</td>\n",
       "      <td>0.8</td>\n",
       "      <td>10934.0</td>\n",
       "      <td>0.4</td>\n",
       "      <td>...</td>\n",
       "      <td>14.1</td>\n",
       "      <td>89.3</td>\n",
       "      <td>45.0</td>\n",
       "      <td>1.90</td>\n",
       "      <td>59.0</td>\n",
       "      <td>42.0</td>\n",
       "      <td>73.5</td>\n",
       "      <td>72.0</td>\n",
       "      <td>47.0</td>\n",
       "      <td>2.2</td>\n",
       "    </tr>\n",
       "    <tr>\n",
       "      <th>263</th>\n",
       "      <td>ZMB</td>\n",
       "      <td>Zambie</td>\n",
       "      <td>Afrique subsaharienne</td>\n",
       "      <td>NaN</td>\n",
       "      <td>NaN</td>\n",
       "      <td>NaN</td>\n",
       "      <td>NaN</td>\n",
       "      <td>NaN</td>\n",
       "      <td>NaN</td>\n",
       "      <td>NaN</td>\n",
       "      <td>...</td>\n",
       "      <td>NaN</td>\n",
       "      <td>NaN</td>\n",
       "      <td>NaN</td>\n",
       "      <td>NaN</td>\n",
       "      <td>NaN</td>\n",
       "      <td>NaN</td>\n",
       "      <td>NaN</td>\n",
       "      <td>NaN</td>\n",
       "      <td>NaN</td>\n",
       "      <td>NaN</td>\n",
       "    </tr>\n",
       "    <tr>\n",
       "      <th>264</th>\n",
       "      <td>ZWE</td>\n",
       "      <td>Zimbabwe</td>\n",
       "      <td>Afrique subsaharienne</td>\n",
       "      <td>NaN</td>\n",
       "      <td>NaN</td>\n",
       "      <td>NaN</td>\n",
       "      <td>NaN</td>\n",
       "      <td>NaN</td>\n",
       "      <td>NaN</td>\n",
       "      <td>NaN</td>\n",
       "      <td>...</td>\n",
       "      <td>NaN</td>\n",
       "      <td>NaN</td>\n",
       "      <td>NaN</td>\n",
       "      <td>NaN</td>\n",
       "      <td>NaN</td>\n",
       "      <td>NaN</td>\n",
       "      <td>NaN</td>\n",
       "      <td>NaN</td>\n",
       "      <td>NaN</td>\n",
       "      <td>NaN</td>\n",
       "    </tr>\n",
       "  </tbody>\n",
       "</table>\n",
       "<p>265 rows × 27 columns</p>\n",
       "</div>"
      ],
      "text/plain": [
       "      id            name                           region         country  \\\n",
       "0    ABW           Aruba      Amerique latine et Caraibes           Aruba   \n",
       "1    AFG     Afghanistan                      Asie du Sud     Afghanistan   \n",
       "2    AGO          Angola            Afrique subsaharienne          Angola   \n",
       "3    ALB         Albanie          Europe et Asie centrale         Albanie   \n",
       "4    AND         Andorre          Europe et Asie centrale         Andorre   \n",
       "..   ...             ...                              ...             ...   \n",
       "260  XKX          Kosovo          Europe et Asie centrale             NaN   \n",
       "261  YEM  Yemen, Rep. du  Afrique du Nord et Moyen-Orient             NaN   \n",
       "262  ZAF  Afrique du Sud            Afrique subsaharienne  Afrique du Sud   \n",
       "263  ZMB          Zambie            Afrique subsaharienne             NaN   \n",
       "264  ZWE        Zimbabwe            Afrique subsaharienne             NaN   \n",
       "\n",
       "     ratio de la population pauvre disposant de moins de $ 1,90 par jour (2011 ppa) (% de la population)  \\\n",
       "0                                                  2.8                                                     \n",
       "1                                                  2.8                                                     \n",
       "2                                                 31.1                                                     \n",
       "3                                                  0.0                                                     \n",
       "4                                                  2.8                                                     \n",
       "..                                                 ...                                                     \n",
       "260                                                NaN                                                     \n",
       "261                                                NaN                                                     \n",
       "262                                               20.5                                                     \n",
       "263                                                NaN                                                     \n",
       "264                                                NaN                                                     \n",
       "\n",
       "     espérance de vie à la naissance, total (années)  population, total  \\\n",
       "0                                               75.0           106445.0   \n",
       "1                                               62.0         41128771.0   \n",
       "2                                               62.0         35588987.0   \n",
       "3                                               76.0          2775634.0   \n",
       "4                                               73.0            79824.0   \n",
       "..                                               ...                ...   \n",
       "260                                              NaN                NaN   \n",
       "261                                              NaN                NaN   \n",
       "262                                             62.0         59893885.0   \n",
       "263                                              NaN                NaN   \n",
       "264                                              NaN                NaN   \n",
       "\n",
       "     croissance de la population (% annuel)  migration nette  \\\n",
       "0                                      -0.1            501.0   \n",
       "1                                       2.5        -183672.0   \n",
       "2                                       3.1          29089.0   \n",
       "3                                      -1.3         -10612.0   \n",
       "4                                       1.0           1377.0   \n",
       "..                                      ...              ...   \n",
       "260                                     NaN              NaN   \n",
       "261                                     NaN              NaN   \n",
       "262                                     0.8          10934.0   \n",
       "263                                     NaN              NaN   \n",
       "264                                     NaN              NaN   \n",
       "\n",
       "     indice du capital humain (échelle comprise entre 0 et 1)  ...  \\\n",
       "0                                                  0.6         ...   \n",
       "1                                                  0.4         ...   \n",
       "2                                                  0.4         ...   \n",
       "3                                                  0.6         ...   \n",
       "4                                                  0.6         ...   \n",
       "..                                                 ...         ...   \n",
       "260                                                NaN         ...   \n",
       "261                                                NaN         ...   \n",
       "262                                                0.4         ...   \n",
       "263                                                NaN         ...   \n",
       "264                                                NaN         ...   \n",
       "\n",
       "     surface forestière (% du territoire)  \\\n",
       "0                                     2.3   \n",
       "1                                     1.9   \n",
       "2                                    53.4   \n",
       "3                                    28.8   \n",
       "4                                    34.0   \n",
       "..                                    ...   \n",
       "260                                   NaN   \n",
       "261                                   NaN   \n",
       "262                                  14.1   \n",
       "263                                   NaN   \n",
       "264                                   NaN   \n",
       "\n",
       "     accès à l’électricité (% de la population)  \\\n",
       "0                                         100.0   \n",
       "1                                          97.7   \n",
       "2                                          48.2   \n",
       "3                                         100.0   \n",
       "4                                         100.0   \n",
       "..                                          ...   \n",
       "260                                         NaN   \n",
       "261                                         NaN   \n",
       "262                                        89.3   \n",
       "263                                         NaN   \n",
       "264                                         NaN   \n",
       "\n",
       "     retraits annuels d’eau douce, total (% des ressources internes)  \\\n",
       "0                                                  6.0                 \n",
       "1                                                 43.0                 \n",
       "2                                                  0.0                 \n",
       "3                                                  3.0                 \n",
       "4                                                  6.0                 \n",
       "..                                                 ...                 \n",
       "260                                                NaN                 \n",
       "261                                                NaN                 \n",
       "262                                               45.0                 \n",
       "263                                                NaN                 \n",
       "264                                                NaN                 \n",
       "\n",
       "     production d’électricité à partir de sources d’énergie renouvelables, hors énergie hydroélectrique (% du total)  \\\n",
       "0                                                 0.65                                                                 \n",
       "1                                                 0.65                                                                 \n",
       "2                                                 0.00                                                                 \n",
       "3                                                 0.00                                                                 \n",
       "4                                                 0.65                                                                 \n",
       "..                                                 ...                                                                 \n",
       "260                                                NaN                                                                 \n",
       "261                                                NaN                                                                 \n",
       "262                                               1.90                                                                 \n",
       "263                                                NaN                                                                 \n",
       "264                                                NaN                                                                 \n",
       "\n",
       "     people using safely managed sanitation services (% of population)  \\\n",
       "0                                                 59.0                   \n",
       "1                                                 59.0                   \n",
       "2                                                 59.0                   \n",
       "3                                                 48.0                   \n",
       "4                                                100.0                   \n",
       "..                                                 ...                   \n",
       "260                                                NaN                   \n",
       "261                                                NaN                   \n",
       "262                                               59.0                   \n",
       "263                                                NaN                   \n",
       "264                                                NaN                   \n",
       "\n",
       "     homicides intentionnels (pour 100 000 personnes)  \\\n",
       "0                                                 2.0   \n",
       "1                                                 4.0   \n",
       "2                                                 4.0   \n",
       "3                                                 2.0   \n",
       "4                                                 3.0   \n",
       "..                                                ...   \n",
       "260                                               NaN   \n",
       "261                                               NaN   \n",
       "262                                              42.0   \n",
       "263                                               NaN   \n",
       "264                                               NaN   \n",
       "\n",
       "     statistical performance indicators (spi): overall score (scale 0-100)  \\\n",
       "0                                                 58.2                       \n",
       "1                                                 49.8                       \n",
       "2                                                 54.9                       \n",
       "3                                                 75.4                       \n",
       "4                                                 58.2                       \n",
       "..                                                 ...                       \n",
       "260                                                NaN                       \n",
       "261                                                NaN                       \n",
       "262                                               73.5                       \n",
       "263                                                NaN                       \n",
       "264                                                NaN                       \n",
       "\n",
       "     utilisateurs d internet (% de la population)  \\\n",
       "0                                            97.0   \n",
       "1                                            18.0   \n",
       "2                                            33.0   \n",
       "3                                            79.0   \n",
       "4                                            94.0   \n",
       "..                                            ...   \n",
       "260                                           NaN   \n",
       "261                                           NaN   \n",
       "262                                          72.0   \n",
       "263                                           NaN   \n",
       "264                                           NaN   \n",
       "\n",
       "     proportion de sièges occupés par des femmes dans les parlements nationaux (%)  \\\n",
       "0                                                 24.5                               \n",
       "1                                                 27.0                               \n",
       "2                                                 34.0                               \n",
       "3                                                 36.0                               \n",
       "4                                                 46.0                               \n",
       "..                                                 ...                               \n",
       "260                                                NaN                               \n",
       "261                                                NaN                               \n",
       "262                                               47.0                               \n",
       "263                                                NaN                               \n",
       "264                                                NaN                               \n",
       "\n",
       "     investissements étrangers directs, entrées nettes (% du pib)  \n",
       "0                                                  4.3             \n",
       "1                                                  0.1             \n",
       "2                                                 -5.8             \n",
       "3                                                  7.6             \n",
       "4                                                  2.3             \n",
       "..                                                 ...             \n",
       "260                                                NaN             \n",
       "261                                                NaN             \n",
       "262                                                2.2             \n",
       "263                                                NaN             \n",
       "264                                                NaN             \n",
       "\n",
       "[265 rows x 27 columns]"
      ]
     },
     "execution_count": 61,
     "metadata": {},
     "output_type": "execute_result"
    }
   ],
   "source": [
    "merged_df_1"
   ]
  },
  {
   "cell_type": "markdown",
   "metadata": {},
   "source": [
    "On vient de merger le dataset sur les informations basiques de chque pays, à savoir le nom, le code du pays,et la région, avec le dataset sur les indicateurs de développement de ces pays.\n",
    "\n",
    "On va procéder de même pour merger le dataset résultant avec le dataframe sur les niveaux de vie de chaque pays."
   ]
  },
  {
   "cell_type": "code",
   "execution_count": 62,
   "metadata": {},
   "outputs": [],
   "source": [
    "# codes_to_save = merged_df_1['id'].tolist()\n",
    "# df_income_codes_matched = merged_df_1[merged_df_1['id'].isin(codes_to_save)]"
   ]
  },
  {
   "cell_type": "code",
   "execution_count": 68,
   "metadata": {},
   "outputs": [],
   "source": [
    "final_dataset = pd.merge(left=merged_df_1, right=df_CLASS[['code','income group']], left_on='id', right_on='code', how='left')"
   ]
  },
  {
   "cell_type": "code",
   "execution_count": 69,
   "metadata": {},
   "outputs": [
    {
     "data": {
      "text/plain": [
       "['id',\n",
       " 'name',\n",
       " 'region',\n",
       " 'country',\n",
       " 'ratio de la population pauvre disposant de moins de $\\xa01,90 par jour (2011 ppa) (%\\xa0de la population)',\n",
       " 'espérance de vie à la naissance, total (années)',\n",
       " 'population, total',\n",
       " 'croissance de la population (%\\xa0annuel)',\n",
       " 'migration nette',\n",
       " 'indice du capital humain (échelle comprise entre 0 et 1)',\n",
       " 'pib ($\\xa0us courants)current us$constant us$current lcuconstant lcu',\n",
       " 'pib par habitant ($\\xa0us courants)current us$constant us$current lcuconstant lcu',\n",
       " 'croissance du pib (%\\xa0annuel)',\n",
       " 'chômage, total (%\\xa0de la population) (estimation modélisée oit)',\n",
       " 'inflation, prix à la consommation (%\\xa0annuel)',\n",
       " 'envois de fonds des travailleurs et rémunérations des salariés, reçus (%\\xa0du pib)',\n",
       " 'émissions de co2 (tonnes métriques par habitant)',\n",
       " 'surface forestière (%\\xa0du territoire)',\n",
       " 'accès à l’électricité (% de la population)',\n",
       " 'retraits annuels d’eau douce, total (% des ressources internes)',\n",
       " 'production d’électricité à partir de sources d’énergie renouvelables, hors énergie hydroélectrique (% du total)',\n",
       " 'people using safely managed sanitation services (% of population)',\n",
       " 'homicides intentionnels (pour 100\\xa0000 personnes)',\n",
       " 'statistical performance indicators (spi): overall score (scale 0-100)',\n",
       " 'utilisateurs d internet (% de la population)',\n",
       " 'proportion de\\xa0sièges occupés par des femmes dans les parlements nationaux (%)',\n",
       " 'investissements étrangers directs, entrées nettes (%\\xa0du pib)',\n",
       " 'code',\n",
       " 'income group']"
      ]
     },
     "execution_count": 69,
     "metadata": {},
     "output_type": "execute_result"
    }
   ],
   "source": [
    "final_dataset.columns.to_list()"
   ]
  },
  {
   "cell_type": "code",
   "execution_count": 73,
   "metadata": {},
   "outputs": [],
   "source": [
    "final_dataset.columns = [unidecode.unidecode(col) for col in final_dataset.columns]"
   ]
  },
  {
   "cell_type": "code",
   "execution_count": 74,
   "metadata": {},
   "outputs": [
    {
     "data": {
      "text/plain": [
       "['id',\n",
       " 'name',\n",
       " 'region',\n",
       " 'country',\n",
       " 'ratio de la population pauvre disposant de moins de $ 1,90 par jour (2011 ppa) (% de la population)',\n",
       " 'esperance de vie a la naissance, total (annees)',\n",
       " 'population, total',\n",
       " 'croissance de la population (% annuel)',\n",
       " 'migration nette',\n",
       " 'indice du capital humain (echelle comprise entre 0 et 1)',\n",
       " 'pib ($ us courants)current us$constant us$current lcuconstant lcu',\n",
       " 'pib par habitant ($ us courants)current us$constant us$current lcuconstant lcu',\n",
       " 'croissance du pib (% annuel)',\n",
       " 'chomage, total (% de la population) (estimation modelisee oit)',\n",
       " 'inflation, prix a la consommation (% annuel)',\n",
       " 'envois de fonds des travailleurs et remunerations des salaries, recus (% du pib)',\n",
       " 'emissions de co2 (tonnes metriques par habitant)',\n",
       " 'surface forestiere (% du territoire)',\n",
       " \"acces a l'electricite (% de la population)\",\n",
       " \"retraits annuels d'eau douce, total (% des ressources internes)\",\n",
       " \"production d'electricite a partir de sources d'energie renouvelables, hors energie hydroelectrique (% du total)\",\n",
       " 'people using safely managed sanitation services (% of population)',\n",
       " 'homicides intentionnels (pour 100 000 personnes)',\n",
       " 'statistical performance indicators (spi): overall score (scale 0-100)',\n",
       " 'utilisateurs d internet (% de la population)',\n",
       " 'proportion de sieges occupes par des femmes dans les parlements nationaux (%)',\n",
       " 'investissements etrangers directs, entrees nettes (% du pib)',\n",
       " 'code',\n",
       " 'income group']"
      ]
     },
     "execution_count": 74,
     "metadata": {},
     "output_type": "execute_result"
    }
   ],
   "source": [
    "final_dataset.columns.to_list()"
   ]
  },
  {
   "cell_type": "code",
   "execution_count": 70,
   "metadata": {},
   "outputs": [
    {
     "ename": "KeyError",
     "evalue": "\"['croissance du pib', 'chômage, total (% de la population) (estimation modélisée oit)', 'inflation, prix à la consommation (% annuel)'] not in index\"",
     "output_type": "error",
     "traceback": [
      "\u001b[0;31m---------------------------------------------------------------------------\u001b[0m",
      "\u001b[0;31mKeyError\u001b[0m                                  Traceback (most recent call last)",
      "Cell \u001b[0;32mIn[70], line 2\u001b[0m\n\u001b[1;32m      1\u001b[0m \u001b[39m# extract our final columns\u001b[39;00m\n\u001b[0;32m----> 2\u001b[0m final_dataset[FILTERS_PARAMS[\u001b[39m'\u001b[39m\u001b[39mFEATURES\u001b[39m\u001b[39m'\u001b[39m]]\n",
      "File \u001b[0;32m/usr/local/anaconda3/lib/python3.11/site-packages/pandas/core/frame.py:3813\u001b[0m, in \u001b[0;36mDataFrame.__getitem__\u001b[0;34m(self, key)\u001b[0m\n\u001b[1;32m   3811\u001b[0m     \u001b[39mif\u001b[39;00m is_iterator(key):\n\u001b[1;32m   3812\u001b[0m         key \u001b[39m=\u001b[39m \u001b[39mlist\u001b[39m(key)\n\u001b[0;32m-> 3813\u001b[0m     indexer \u001b[39m=\u001b[39m \u001b[39mself\u001b[39m\u001b[39m.\u001b[39mcolumns\u001b[39m.\u001b[39m_get_indexer_strict(key, \u001b[39m\"\u001b[39m\u001b[39mcolumns\u001b[39m\u001b[39m\"\u001b[39m)[\u001b[39m1\u001b[39m]\n\u001b[1;32m   3815\u001b[0m \u001b[39m# take() does not accept boolean indexers\u001b[39;00m\n\u001b[1;32m   3816\u001b[0m \u001b[39mif\u001b[39;00m \u001b[39mgetattr\u001b[39m(indexer, \u001b[39m\"\u001b[39m\u001b[39mdtype\u001b[39m\u001b[39m\"\u001b[39m, \u001b[39mNone\u001b[39;00m) \u001b[39m==\u001b[39m \u001b[39mbool\u001b[39m:\n",
      "File \u001b[0;32m/usr/local/anaconda3/lib/python3.11/site-packages/pandas/core/indexes/base.py:6070\u001b[0m, in \u001b[0;36mIndex._get_indexer_strict\u001b[0;34m(self, key, axis_name)\u001b[0m\n\u001b[1;32m   6067\u001b[0m \u001b[39melse\u001b[39;00m:\n\u001b[1;32m   6068\u001b[0m     keyarr, indexer, new_indexer \u001b[39m=\u001b[39m \u001b[39mself\u001b[39m\u001b[39m.\u001b[39m_reindex_non_unique(keyarr)\n\u001b[0;32m-> 6070\u001b[0m \u001b[39mself\u001b[39m\u001b[39m.\u001b[39m_raise_if_missing(keyarr, indexer, axis_name)\n\u001b[1;32m   6072\u001b[0m keyarr \u001b[39m=\u001b[39m \u001b[39mself\u001b[39m\u001b[39m.\u001b[39mtake(indexer)\n\u001b[1;32m   6073\u001b[0m \u001b[39mif\u001b[39;00m \u001b[39misinstance\u001b[39m(key, Index):\n\u001b[1;32m   6074\u001b[0m     \u001b[39m# GH 42790 - Preserve name from an Index\u001b[39;00m\n",
      "File \u001b[0;32m/usr/local/anaconda3/lib/python3.11/site-packages/pandas/core/indexes/base.py:6133\u001b[0m, in \u001b[0;36mIndex._raise_if_missing\u001b[0;34m(self, key, indexer, axis_name)\u001b[0m\n\u001b[1;32m   6130\u001b[0m     \u001b[39mraise\u001b[39;00m \u001b[39mKeyError\u001b[39;00m(\u001b[39mf\u001b[39m\u001b[39m\"\u001b[39m\u001b[39mNone of [\u001b[39m\u001b[39m{\u001b[39;00mkey\u001b[39m}\u001b[39;00m\u001b[39m] are in the [\u001b[39m\u001b[39m{\u001b[39;00maxis_name\u001b[39m}\u001b[39;00m\u001b[39m]\u001b[39m\u001b[39m\"\u001b[39m)\n\u001b[1;32m   6132\u001b[0m not_found \u001b[39m=\u001b[39m \u001b[39mlist\u001b[39m(ensure_index(key)[missing_mask\u001b[39m.\u001b[39mnonzero()[\u001b[39m0\u001b[39m]]\u001b[39m.\u001b[39munique())\n\u001b[0;32m-> 6133\u001b[0m \u001b[39mraise\u001b[39;00m \u001b[39mKeyError\u001b[39;00m(\u001b[39mf\u001b[39m\u001b[39m\"\u001b[39m\u001b[39m{\u001b[39;00mnot_found\u001b[39m}\u001b[39;00m\u001b[39m not in index\u001b[39m\u001b[39m\"\u001b[39m)\n",
      "\u001b[0;31mKeyError\u001b[0m: \"['croissance du pib', 'chômage, total (% de la population) (estimation modélisée oit)', 'inflation, prix à la consommation (% annuel)'] not in index\""
     ]
    }
   ],
   "source": [
    "# extract our final columns\n",
    "final_dataset[FILTERS_PARAMS['FEATURES']]"
   ]
  },
  {
   "cell_type": "code",
   "execution_count": null,
   "metadata": {},
   "outputs": [],
   "source": []
  }
 ],
 "metadata": {
  "kernelspec": {
   "display_name": "base",
   "language": "python",
   "name": "python3"
  },
  "language_info": {
   "codemirror_mode": {
    "name": "ipython",
    "version": 3
   },
   "file_extension": ".py",
   "mimetype": "text/x-python",
   "name": "python",
   "nbconvert_exporter": "python",
   "pygments_lexer": "ipython3",
   "version": "3.11.3"
  },
  "orig_nbformat": 4
 },
 "nbformat": 4,
 "nbformat_minor": 2
}
