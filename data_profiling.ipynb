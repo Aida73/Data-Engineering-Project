{
 "cells": [
  {
   "cell_type": "code",
   "execution_count": 5,
   "metadata": {},
   "outputs": [],
   "source": [
    "%reload_ext autoreload\n",
    "%autoreload 2\n",
    "\n",
    "import os\n",
    "import pandas as pd\n",
    "from pathlib import Path\n",
    "import sys\n",
    "\n",
    "sys.path.append(str(Path.cwd().parent))\n",
    "from settings.params import (DATA_DIR,FILTERS_PARAMS)"
   ]
  },
  {
   "cell_type": "markdown",
   "metadata": {},
   "source": [
    "### Read datasets"
   ]
  },
  {
   "cell_type": "code",
   "execution_count": 5,
   "metadata": {},
   "outputs": [],
   "source": [
    "def load_data():\n",
    "    list_dataframe = {}\n",
    "    for filename in os.listdir(DATA_DIR):\n",
    "        df_name = f\"df_{filename.split('.')[0]}\"\n",
    "        if filename.split('.')[-1] == 'csv':\n",
    "            list_dataframe[df_name] = pd.read_csv(Path(DATA_DIR,filename),sep=',', index_col=[0])\n",
    "        elif (filename.split('.')[-1] == 'xlsx') or (filename.split('.')[-1] == 'xls'):\n",
    "            list_dataframe[df_name] = pd.read_excel(Path(DATA_DIR,filename))\n",
    "        print(filename)\n",
    "    return list_dataframe"
   ]
  },
  {
   "cell_type": "code",
   "execution_count": 6,
   "metadata": {},
   "outputs": [
    {
     "name": "stdout",
     "output_type": "stream",
     "text": [
      ".DS_Store\n",
      "indicators.csv\n",
      "CLASS.xlsx\n",
      "country_codes.csv\n"
     ]
    }
   ],
   "source": [
    "datasets = load_data()"
   ]
  },
  {
   "cell_type": "code",
   "execution_count": 7,
   "metadata": {},
   "outputs": [
    {
     "data": {
      "text/plain": [
       "dict_keys(['df_indicators', 'df_CLASS', 'df_country_codes'])"
      ]
     },
     "execution_count": 7,
     "metadata": {},
     "output_type": "execute_result"
    }
   ],
   "source": [
    "datasets.keys()"
   ]
  },
  {
   "cell_type": "markdown",
   "metadata": {},
   "source": [
    "*On a trois datasets sur les indicateurs, la classe( niveau de vie ) et la region et code de tous les pays*"
   ]
  },
  {
   "cell_type": "markdown",
   "metadata": {},
   "source": [
    "### Exploration du dataframe Indicators"
   ]
  },
  {
   "cell_type": "code",
   "execution_count": 8,
   "metadata": {},
   "outputs": [
    {
     "data": {
      "text/html": [
       "<div>\n",
       "<style scoped>\n",
       "    .dataframe tbody tr th:only-of-type {\n",
       "        vertical-align: middle;\n",
       "    }\n",
       "\n",
       "    .dataframe tbody tr th {\n",
       "        vertical-align: top;\n",
       "    }\n",
       "\n",
       "    .dataframe thead th {\n",
       "        text-align: right;\n",
       "    }\n",
       "</style>\n",
       "<table border=\"1\" class=\"dataframe\">\n",
       "  <thead>\n",
       "    <tr style=\"text-align: right;\">\n",
       "      <th></th>\n",
       "      <th>Country</th>\n",
       "      <th>Ratio de la population pauvre disposant de moins de $ 1,90 par jour (2011 PPA) (% de la population)</th>\n",
       "      <th>Espérance de vie à la naissance, total (années)</th>\n",
       "      <th>Population, total</th>\n",
       "      <th>Croissance de la population (% annuel)</th>\n",
       "      <th>Migration nette</th>\n",
       "      <th>Indice du capital humain (échelle comprise entre 0 et 1)</th>\n",
       "      <th>PIB ($ US courants)current US$constant US$current LCUconstant LCU</th>\n",
       "      <th>PIB par habitant ($ US courants)current US$constant US$current LCUconstant LCU</th>\n",
       "      <th>Croissance du PIB (% annuel)</th>\n",
       "      <th>...</th>\n",
       "      <th>Accès à l’électricité (% de la population)</th>\n",
       "      <th>Retraits annuels d’eau douce, total (% des ressources internes)</th>\n",
       "      <th>Production d’électricité à partir de sources d’énergie renouvelables, hors énergie hydroélectrique (% du total)</th>\n",
       "      <th>People using safely managed sanitation services (% of population)</th>\n",
       "      <th>Homicides intentionnels (pour 100 000 personnes)</th>\n",
       "      <th>Dette du gouvernement central, total (% du PIB)</th>\n",
       "      <th>Statistical performance indicators (SPI): Overall score (scale 0-100)</th>\n",
       "      <th>Utilisateurs d Internet (% de la population)</th>\n",
       "      <th>Proportion de sièges occupés par des femmes dans les parlements nationaux (%)</th>\n",
       "      <th>Investissements étrangers directs, entrées nettes (% du PIB)</th>\n",
       "    </tr>\n",
       "  </thead>\n",
       "  <tbody>\n",
       "    <tr>\n",
       "      <th>0</th>\n",
       "      <td>Afghanistan</td>\n",
       "      <td>No data available</td>\n",
       "      <td>61,982</td>\n",
       "      <td>41 128 771</td>\n",
       "      <td>2,534</td>\n",
       "      <td>-183 672</td>\n",
       "      <td>0,4</td>\n",
       "      <td>14,58</td>\n",
       "      <td>363,674</td>\n",
       "      <td>-20,7</td>\n",
       "      <td>...</td>\n",
       "      <td>97,7</td>\n",
       "      <td>43,016</td>\n",
       "      <td>No data available</td>\n",
       "      <td>No data available</td>\n",
       "      <td>4,022</td>\n",
       "      <td>No data available</td>\n",
       "      <td>49,756</td>\n",
       "      <td>18,4</td>\n",
       "      <td>27,016</td>\n",
       "      <td>0,141</td>\n",
       "    </tr>\n",
       "    <tr>\n",
       "      <th>1</th>\n",
       "      <td>Africa Eastern and Southern</td>\n",
       "      <td>No data available</td>\n",
       "      <td>62,455</td>\n",
       "      <td>720 839 314</td>\n",
       "      <td>2,541</td>\n",
       "      <td>-179 444</td>\n",
       "      <td>No data available</td>\n",
       "      <td>1,17</td>\n",
       "      <td>1 622,392</td>\n",
       "      <td>3,405</td>\n",
       "      <td>...</td>\n",
       "      <td>48,104</td>\n",
       "      <td>4,955</td>\n",
       "      <td>2,818</td>\n",
       "      <td>No data available</td>\n",
       "      <td>10,3</td>\n",
       "      <td>No data available</td>\n",
       "      <td>No data available</td>\n",
       "      <td>27,661</td>\n",
       "      <td>30,524</td>\n",
       "      <td>4,966</td>\n",
       "    </tr>\n",
       "    <tr>\n",
       "      <th>2</th>\n",
       "      <td>Africa Western and Central</td>\n",
       "      <td>No data available</td>\n",
       "      <td>56,989</td>\n",
       "      <td>490 330 870</td>\n",
       "      <td>2,54</td>\n",
       "      <td>-264 802</td>\n",
       "      <td>No data available</td>\n",
       "      <td>877,86</td>\n",
       "      <td>1 790,349</td>\n",
       "      <td>3,763</td>\n",
       "      <td>...</td>\n",
       "      <td>54,224</td>\n",
       "      <td>1,698</td>\n",
       "      <td>0,375</td>\n",
       "      <td>24,674</td>\n",
       "      <td>8,1</td>\n",
       "      <td>No data available</td>\n",
       "      <td>No data available</td>\n",
       "      <td>46,99</td>\n",
       "      <td>19,183</td>\n",
       "      <td>2,421</td>\n",
       "    </tr>\n",
       "    <tr>\n",
       "      <th>3</th>\n",
       "      <td>Afrique du Sud</td>\n",
       "      <td>20,5</td>\n",
       "      <td>62,341</td>\n",
       "      <td>59 893 885</td>\n",
       "      <td>0,841</td>\n",
       "      <td>10 934</td>\n",
       "      <td>0,425</td>\n",
       "      <td>405,87</td>\n",
       "      <td>6 776,48</td>\n",
       "      <td>2,042</td>\n",
       "      <td>...</td>\n",
       "      <td>89,3</td>\n",
       "      <td>45,335</td>\n",
       "      <td>1,93</td>\n",
       "      <td>No data available</td>\n",
       "      <td>41,866</td>\n",
       "      <td>75,617</td>\n",
       "      <td>73,475</td>\n",
       "      <td>72,31</td>\n",
       "      <td>46,5</td>\n",
       "      <td>2,169</td>\n",
       "    </tr>\n",
       "    <tr>\n",
       "      <th>4</th>\n",
       "      <td>Albanie</td>\n",
       "      <td>0</td>\n",
       "      <td>76,463</td>\n",
       "      <td>2 775 634</td>\n",
       "      <td>-1,29</td>\n",
       "      <td>-10 612</td>\n",
       "      <td>0,634</td>\n",
       "      <td>18,88</td>\n",
       "      <td>6 802,805</td>\n",
       "      <td>4,844</td>\n",
       "      <td>...</td>\n",
       "      <td>100</td>\n",
       "      <td>2,922</td>\n",
       "      <td>0</td>\n",
       "      <td>47,691</td>\n",
       "      <td>2,312</td>\n",
       "      <td>82,384</td>\n",
       "      <td>75,383</td>\n",
       "      <td>79,32</td>\n",
       "      <td>35,714</td>\n",
       "      <td>7,634</td>\n",
       "    </tr>\n",
       "  </tbody>\n",
       "</table>\n",
       "<p>5 rows × 25 columns</p>\n",
       "</div>"
      ],
      "text/plain": [
       "                        Country  \\\n",
       "0                  Afghanistan    \n",
       "1  Africa Eastern and Southern    \n",
       "2   Africa Western and Central    \n",
       "3               Afrique du Sud    \n",
       "4                      Albanie    \n",
       "\n",
       "  Ratio de la population pauvre disposant de moins de $ 1,90 par jour (2011 PPA) (% de la population)  \\\n",
       "0                                  No data available                                                    \n",
       "1                                  No data available                                                    \n",
       "2                                  No data available                                                    \n",
       "3                                               20,5                                                    \n",
       "4                                                  0                                                    \n",
       "\n",
       "  Espérance de vie à la naissance, total (années) Population, total  \\\n",
       "0                                          61,982        41 128 771   \n",
       "1                                          62,455       720 839 314   \n",
       "2                                          56,989       490 330 870   \n",
       "3                                          62,341        59 893 885   \n",
       "4                                          76,463         2 775 634   \n",
       "\n",
       "  Croissance de la population (% annuel) Migration nette  \\\n",
       "0                                  2,534        -183 672   \n",
       "1                                  2,541        -179 444   \n",
       "2                                   2,54        -264 802   \n",
       "3                                  0,841          10 934   \n",
       "4                                  -1,29         -10 612   \n",
       "\n",
       "  Indice du capital humain (échelle comprise entre 0 et 1)  \\\n",
       "0                                                0,4         \n",
       "1                                  No data available         \n",
       "2                                  No data available         \n",
       "3                                              0,425         \n",
       "4                                              0,634         \n",
       "\n",
       "  PIB ($ US courants)current US$constant US$current LCUconstant LCU  \\\n",
       "0                                              14,58                  \n",
       "1                                               1,17                  \n",
       "2                                             877,86                  \n",
       "3                                             405,87                  \n",
       "4                                              18,88                  \n",
       "\n",
       "  PIB par habitant ($ US courants)current US$constant US$current LCUconstant LCU  \\\n",
       "0                                            363,674                               \n",
       "1                                          1 622,392                               \n",
       "2                                          1 790,349                               \n",
       "3                                           6 776,48                               \n",
       "4                                          6 802,805                               \n",
       "\n",
       "  Croissance du PIB (% annuel)  ...  \\\n",
       "0                        -20,7  ...   \n",
       "1                        3,405  ...   \n",
       "2                        3,763  ...   \n",
       "3                        2,042  ...   \n",
       "4                        4,844  ...   \n",
       "\n",
       "  Accès à l’électricité (% de la population)  \\\n",
       "0                                       97,7   \n",
       "1                                     48,104   \n",
       "2                                     54,224   \n",
       "3                                       89,3   \n",
       "4                                        100   \n",
       "\n",
       "  Retraits annuels d’eau douce, total (% des ressources internes)  \\\n",
       "0                                             43,016                \n",
       "1                                              4,955                \n",
       "2                                              1,698                \n",
       "3                                             45,335                \n",
       "4                                              2,922                \n",
       "\n",
       "  Production d’électricité à partir de sources d’énergie renouvelables, hors énergie hydroélectrique (% du total)  \\\n",
       "0                                  No data available                                                                \n",
       "1                                              2,818                                                                \n",
       "2                                              0,375                                                                \n",
       "3                                               1,93                                                                \n",
       "4                                                  0                                                                \n",
       "\n",
       "  People using safely managed sanitation services (% of population)  \\\n",
       "0                                  No data available                  \n",
       "1                                  No data available                  \n",
       "2                                             24,674                  \n",
       "3                                  No data available                  \n",
       "4                                             47,691                  \n",
       "\n",
       "  Homicides intentionnels (pour 100 000 personnes)  \\\n",
       "0                                            4,022   \n",
       "1                                             10,3   \n",
       "2                                              8,1   \n",
       "3                                           41,866   \n",
       "4                                            2,312   \n",
       "\n",
       "  Dette du gouvernement central, total (% du PIB)  \\\n",
       "0                               No data available   \n",
       "1                               No data available   \n",
       "2                               No data available   \n",
       "3                                          75,617   \n",
       "4                                          82,384   \n",
       "\n",
       "  Statistical performance indicators (SPI): Overall score (scale 0-100)  \\\n",
       "0                                             49,756                      \n",
       "1                                  No data available                      \n",
       "2                                  No data available                      \n",
       "3                                             73,475                      \n",
       "4                                             75,383                      \n",
       "\n",
       "  Utilisateurs d Internet (% de la population)  \\\n",
       "0                                         18,4   \n",
       "1                                       27,661   \n",
       "2                                        46,99   \n",
       "3                                        72,31   \n",
       "4                                        79,32   \n",
       "\n",
       "  Proportion de sièges occupés par des femmes dans les parlements nationaux (%)  \\\n",
       "0                                             27,016                              \n",
       "1                                             30,524                              \n",
       "2                                             19,183                              \n",
       "3                                               46,5                              \n",
       "4                                             35,714                              \n",
       "\n",
       "  Investissements étrangers directs, entrées nettes (% du PIB)  \n",
       "0                                              0,141            \n",
       "1                                              4,966            \n",
       "2                                              2,421            \n",
       "3                                              2,169            \n",
       "4                                              7,634            \n",
       "\n",
       "[5 rows x 25 columns]"
      ]
     },
     "execution_count": 8,
     "metadata": {},
     "output_type": "execute_result"
    }
   ],
   "source": [
    "if('df_indicators' in list(datasets.keys())):\n",
    "    df_indicators = datasets['df_indicators']\n",
    "df_indicators.head()"
   ]
  },
  {
   "cell_type": "code",
   "execution_count": 9,
   "metadata": {},
   "outputs": [
    {
     "name": "stdout",
     "output_type": "stream",
     "text": [
      "Nous avons un dataset de 172 lignes et 25 colonnes\n"
     ]
    }
   ],
   "source": [
    "print(f\"Nous avons un dataset de {df_indicators.shape[0]} lignes et {df_indicators.shape[1]} colonnes\")"
   ]
  },
  {
   "cell_type": "code",
   "execution_count": 10,
   "metadata": {},
   "outputs": [
    {
     "name": "stdout",
     "output_type": "stream",
     "text": [
      "<class 'pandas.core.frame.DataFrame'>\n",
      "Int64Index: 172 entries, 0 to 171\n",
      "Data columns (total 25 columns):\n",
      " #   Column                                                                                                           Non-Null Count  Dtype \n",
      "---  ------                                                                                                           --------------  ----- \n",
      " 0   Country                                                                                                          172 non-null    object\n",
      " 1   Ratio de la population pauvre disposant de moins de $ 1,90 par jour (2011 PPA) (% de la population)              172 non-null    object\n",
      " 2   Espérance de vie à la naissance, total (années)                                                                  172 non-null    object\n",
      " 3   Population, total                                                                                                172 non-null    object\n",
      " 4   Croissance de la population (% annuel)                                                                           172 non-null    object\n",
      " 5   Migration nette                                                                                                  172 non-null    object\n",
      " 6   Indice du capital humain (échelle comprise entre 0 et 1)                                                         172 non-null    object\n",
      " 7   PIB ($ US courants)current US$constant US$current LCUconstant LCU                                                172 non-null    object\n",
      " 8   PIB par habitant ($ US courants)current US$constant US$current LCUconstant LCU                                   172 non-null    object\n",
      " 9   Croissance du PIB (% annuel)                                                                                     172 non-null    object\n",
      " 10  Chômage, total (% de la population) (estimation modélisée OIT)                                                   172 non-null    object\n",
      " 11  Inflation, prix à la consommation (% annuel)                                                                     172 non-null    object\n",
      " 12  Envois de fonds des travailleurs et rémunérations des salariés, reçus (% du PIB)                                 172 non-null    object\n",
      " 13  Émissions de CO2 (tonnes métriques par habitant)                                                                 172 non-null    object\n",
      " 14  Surface forestière (% du territoire)                                                                             172 non-null    object\n",
      " 15  Accès à l’électricité (% de la population)                                                                       172 non-null    object\n",
      " 16  Retraits annuels d’eau douce, total (% des ressources internes)                                                  172 non-null    object\n",
      " 17  Production d’électricité à partir de sources d’énergie renouvelables, hors énergie hydroélectrique (% du total)  172 non-null    object\n",
      " 18  People using safely managed sanitation services (% of population)                                                172 non-null    object\n",
      " 19  Homicides intentionnels (pour 100 000 personnes)                                                                 172 non-null    object\n",
      " 20  Dette du gouvernement central, total (% du PIB)                                                                  172 non-null    object\n",
      " 21  Statistical performance indicators (SPI): Overall score (scale 0-100)                                            172 non-null    object\n",
      " 22  Utilisateurs d Internet (% de la population)                                                                     172 non-null    object\n",
      " 23  Proportion de sièges occupés par des femmes dans les parlements nationaux (%)                                    172 non-null    object\n",
      " 24  Investissements étrangers directs, entrées nettes (% du PIB)                                                     172 non-null    object\n",
      "dtypes: object(25)\n",
      "memory usage: 34.9+ KB\n"
     ]
    }
   ],
   "source": [
    "df_indicators.info()"
   ]
  },
  {
   "cell_type": "markdown",
   "metadata": {},
   "source": [
    "Toutes les colonnes sont de types object"
   ]
  },
  {
   "cell_type": "code",
   "execution_count": 11,
   "metadata": {},
   "outputs": [
    {
     "data": {
      "text/html": [
       "<div>\n",
       "<style scoped>\n",
       "    .dataframe tbody tr th:only-of-type {\n",
       "        vertical-align: middle;\n",
       "    }\n",
       "\n",
       "    .dataframe tbody tr th {\n",
       "        vertical-align: top;\n",
       "    }\n",
       "\n",
       "    .dataframe thead th {\n",
       "        text-align: right;\n",
       "    }\n",
       "</style>\n",
       "<table border=\"1\" class=\"dataframe\">\n",
       "  <thead>\n",
       "    <tr style=\"text-align: right;\">\n",
       "      <th></th>\n",
       "      <th>Country</th>\n",
       "      <th>Ratio de la population pauvre disposant de moins de $ 1,90 par jour (2011 PPA) (% de la population)</th>\n",
       "      <th>Espérance de vie à la naissance, total (années)</th>\n",
       "      <th>Population, total</th>\n",
       "      <th>Croissance de la population (% annuel)</th>\n",
       "      <th>Migration nette</th>\n",
       "      <th>Indice du capital humain (échelle comprise entre 0 et 1)</th>\n",
       "      <th>PIB ($ US courants)current US$constant US$current LCUconstant LCU</th>\n",
       "      <th>PIB par habitant ($ US courants)current US$constant US$current LCUconstant LCU</th>\n",
       "      <th>Croissance du PIB (% annuel)</th>\n",
       "      <th>...</th>\n",
       "      <th>Accès à l’électricité (% de la population)</th>\n",
       "      <th>Retraits annuels d’eau douce, total (% des ressources internes)</th>\n",
       "      <th>Production d’électricité à partir de sources d’énergie renouvelables, hors énergie hydroélectrique (% du total)</th>\n",
       "      <th>People using safely managed sanitation services (% of population)</th>\n",
       "      <th>Homicides intentionnels (pour 100 000 personnes)</th>\n",
       "      <th>Dette du gouvernement central, total (% du PIB)</th>\n",
       "      <th>Statistical performance indicators (SPI): Overall score (scale 0-100)</th>\n",
       "      <th>Utilisateurs d Internet (% de la population)</th>\n",
       "      <th>Proportion de sièges occupés par des femmes dans les parlements nationaux (%)</th>\n",
       "      <th>Investissements étrangers directs, entrées nettes (% du PIB)</th>\n",
       "    </tr>\n",
       "  </thead>\n",
       "  <tbody>\n",
       "    <tr>\n",
       "      <th>count</th>\n",
       "      <td>172</td>\n",
       "      <td>172</td>\n",
       "      <td>172</td>\n",
       "      <td>172</td>\n",
       "      <td>172</td>\n",
       "      <td>172</td>\n",
       "      <td>172</td>\n",
       "      <td>172</td>\n",
       "      <td>172</td>\n",
       "      <td>172</td>\n",
       "      <td>...</td>\n",
       "      <td>172</td>\n",
       "      <td>172</td>\n",
       "      <td>172</td>\n",
       "      <td>172</td>\n",
       "      <td>172</td>\n",
       "      <td>172</td>\n",
       "      <td>172</td>\n",
       "      <td>172</td>\n",
       "      <td>172</td>\n",
       "      <td>172</td>\n",
       "    </tr>\n",
       "    <tr>\n",
       "      <th>unique</th>\n",
       "      <td>172</td>\n",
       "      <td>78</td>\n",
       "      <td>161</td>\n",
       "      <td>165</td>\n",
       "      <td>161</td>\n",
       "      <td>164</td>\n",
       "      <td>116</td>\n",
       "      <td>160</td>\n",
       "      <td>164</td>\n",
       "      <td>161</td>\n",
       "      <td>...</td>\n",
       "      <td>78</td>\n",
       "      <td>138</td>\n",
       "      <td>82</td>\n",
       "      <td>92</td>\n",
       "      <td>143</td>\n",
       "      <td>72</td>\n",
       "      <td>137</td>\n",
       "      <td>158</td>\n",
       "      <td>141</td>\n",
       "      <td>152</td>\n",
       "    </tr>\n",
       "    <tr>\n",
       "      <th>top</th>\n",
       "      <td>Afghanistan</td>\n",
       "      <td>No data available</td>\n",
       "      <td>No data available</td>\n",
       "      <td>No data available</td>\n",
       "      <td>No data available</td>\n",
       "      <td>No data available</td>\n",
       "      <td>No data available</td>\n",
       "      <td>No data available</td>\n",
       "      <td>No data available</td>\n",
       "      <td>No data available</td>\n",
       "      <td>...</td>\n",
       "      <td>100</td>\n",
       "      <td>No data available</td>\n",
       "      <td>No data available</td>\n",
       "      <td>No data available</td>\n",
       "      <td>No data available</td>\n",
       "      <td>No data available</td>\n",
       "      <td>No data available</td>\n",
       "      <td>No data available</td>\n",
       "      <td>No data available</td>\n",
       "      <td>No data available</td>\n",
       "    </tr>\n",
       "    <tr>\n",
       "      <th>freq</th>\n",
       "      <td>1</td>\n",
       "      <td>47</td>\n",
       "      <td>12</td>\n",
       "      <td>8</td>\n",
       "      <td>8</td>\n",
       "      <td>8</td>\n",
       "      <td>41</td>\n",
       "      <td>9</td>\n",
       "      <td>9</td>\n",
       "      <td>10</td>\n",
       "      <td>...</td>\n",
       "      <td>86</td>\n",
       "      <td>34</td>\n",
       "      <td>65</td>\n",
       "      <td>78</td>\n",
       "      <td>28</td>\n",
       "      <td>101</td>\n",
       "      <td>36</td>\n",
       "      <td>12</td>\n",
       "      <td>23</td>\n",
       "      <td>21</td>\n",
       "    </tr>\n",
       "  </tbody>\n",
       "</table>\n",
       "<p>4 rows × 25 columns</p>\n",
       "</div>"
      ],
      "text/plain": [
       "             Country  \\\n",
       "count            172   \n",
       "unique           172   \n",
       "top     Afghanistan    \n",
       "freq               1   \n",
       "\n",
       "       Ratio de la population pauvre disposant de moins de $ 1,90 par jour (2011 PPA) (% de la population)  \\\n",
       "count                                                 172                                                    \n",
       "unique                                                 78                                                    \n",
       "top                                     No data available                                                    \n",
       "freq                                                   47                                                    \n",
       "\n",
       "       Espérance de vie à la naissance, total (années)  Population, total  \\\n",
       "count                                              172                172   \n",
       "unique                                             161                165   \n",
       "top                                  No data available  No data available   \n",
       "freq                                                12                  8   \n",
       "\n",
       "       Croissance de la population (% annuel)    Migration nette  \\\n",
       "count                                     172                172   \n",
       "unique                                    161                164   \n",
       "top                         No data available  No data available   \n",
       "freq                                        8                  8   \n",
       "\n",
       "       Indice du capital humain (échelle comprise entre 0 et 1)  \\\n",
       "count                                                 172         \n",
       "unique                                                116         \n",
       "top                                     No data available         \n",
       "freq                                                   41         \n",
       "\n",
       "       PIB ($ US courants)current US$constant US$current LCUconstant LCU  \\\n",
       "count                                                 172                  \n",
       "unique                                                160                  \n",
       "top                                     No data available                  \n",
       "freq                                                    9                  \n",
       "\n",
       "       PIB par habitant ($ US courants)current US$constant US$current LCUconstant LCU  \\\n",
       "count                                                 172                               \n",
       "unique                                                164                               \n",
       "top                                     No data available                               \n",
       "freq                                                    9                               \n",
       "\n",
       "       Croissance du PIB (% annuel)  ...  \\\n",
       "count                           172  ...   \n",
       "unique                          161  ...   \n",
       "top               No data available  ...   \n",
       "freq                             10  ...   \n",
       "\n",
       "       Accès à l’électricité (% de la population)  \\\n",
       "count                                         172   \n",
       "unique                                         78   \n",
       "top                                           100   \n",
       "freq                                           86   \n",
       "\n",
       "       Retraits annuels d’eau douce, total (% des ressources internes)  \\\n",
       "count                                                 172                \n",
       "unique                                                138                \n",
       "top                                     No data available                \n",
       "freq                                                   34                \n",
       "\n",
       "       Production d’électricité à partir de sources d’énergie renouvelables, hors énergie hydroélectrique (% du total)  \\\n",
       "count                                                 172                                                                \n",
       "unique                                                 82                                                                \n",
       "top                                     No data available                                                                \n",
       "freq                                                   65                                                                \n",
       "\n",
       "       People using safely managed sanitation services (% of population)  \\\n",
       "count                                                 172                  \n",
       "unique                                                 92                  \n",
       "top                                     No data available                  \n",
       "freq                                                   78                  \n",
       "\n",
       "       Homicides intentionnels (pour 100 000 personnes)  \\\n",
       "count                                               172   \n",
       "unique                                              143   \n",
       "top                                   No data available   \n",
       "freq                                                 28   \n",
       "\n",
       "       Dette du gouvernement central, total (% du PIB)  \\\n",
       "count                                              172   \n",
       "unique                                              72   \n",
       "top                                  No data available   \n",
       "freq                                               101   \n",
       "\n",
       "       Statistical performance indicators (SPI): Overall score (scale 0-100)  \\\n",
       "count                                                 172                      \n",
       "unique                                                137                      \n",
       "top                                     No data available                      \n",
       "freq                                                   36                      \n",
       "\n",
       "       Utilisateurs d Internet (% de la population)  \\\n",
       "count                                           172   \n",
       "unique                                          158   \n",
       "top                               No data available   \n",
       "freq                                             12   \n",
       "\n",
       "       Proportion de sièges occupés par des femmes dans les parlements nationaux (%)  \\\n",
       "count                                                 172                              \n",
       "unique                                                141                              \n",
       "top                                     No data available                              \n",
       "freq                                                   23                              \n",
       "\n",
       "       Investissements étrangers directs, entrées nettes (% du PIB)  \n",
       "count                                                 172            \n",
       "unique                                                152            \n",
       "top                                     No data available            \n",
       "freq                                                   21            \n",
       "\n",
       "[4 rows x 25 columns]"
      ]
     },
     "execution_count": 11,
     "metadata": {},
     "output_type": "execute_result"
    }
   ],
   "source": [
    "df_indicators.describe()"
   ]
  },
  {
   "cell_type": "code",
   "execution_count": 12,
   "metadata": {},
   "outputs": [
    {
     "data": {
      "text/plain": [
       "0    25\n",
       "dtype: int64"
      ]
     },
     "execution_count": 12,
     "metadata": {},
     "output_type": "execute_result"
    }
   ],
   "source": [
    "df_indicators.isna().sum().value_counts()"
   ]
  },
  {
   "cell_type": "markdown",
   "metadata": {},
   "source": [
    "*On peut voir que la valeur \"Data not available\" n'est pas considérée comme une valeur nulle. Ce qui est normale. Dans la suite, nous la définirons comme valeur manquante.*"
   ]
  },
  {
   "cell_type": "markdown",
   "metadata": {},
   "source": [
    "Nettoyage des donnees"
   ]
  },
  {
   "cell_type": "code",
   "execution_count": 13,
   "metadata": {},
   "outputs": [
    {
     "name": "stdout",
     "output_type": "stream",
     "text": [
      "la colonne: 'Country' contiens des caractères non-ASCII.\n",
      "la colonne: 'Ratio de la population pauvre disposant de moins de $ 1,90 par jour (2011 PPA) (% de la population)' contiens des caractères non-ASCII.\n",
      "la colonne: 'Espérance de vie à la naissance, total (années)' contiens des caractères non-ASCII.\n",
      "la colonne: 'Croissance de la population (% annuel)' contiens des caractères non-ASCII.\n",
      "la colonne: 'Indice du capital humain (échelle comprise entre 0 et 1)' contiens des caractères non-ASCII.\n",
      "la colonne: 'Croissance du PIB (% annuel)' contiens des caractères non-ASCII.\n",
      "la colonne: 'Chômage, total (% de la population) (estimation modélisée OIT)' contiens des caractères non-ASCII.\n",
      "la colonne: 'Inflation, prix à la consommation (% annuel)' contiens des caractères non-ASCII.\n",
      "la colonne: 'Envois de fonds des travailleurs et rémunérations des salariés, reçus (% du PIB)' contiens des caractères non-ASCII.\n",
      "la colonne: 'Émissions de CO2 (tonnes métriques par habitant)' contiens des caractères non-ASCII.\n",
      "la colonne: 'Surface forestière (% du territoire)' contiens des caractères non-ASCII.\n",
      "la colonne: 'Accès à l’électricité (% de la population)' contiens des caractères non-ASCII.\n",
      "la colonne: 'Production d’électricité à partir de sources d’énergie renouvelables, hors énergie hydroélectrique (% du total)' contiens des caractères non-ASCII.\n",
      "la colonne: 'People using safely managed sanitation services (% of population)' contiens des caractères non-ASCII.\n",
      "la colonne: 'Homicides intentionnels (pour 100 000 personnes)' contiens des caractères non-ASCII.\n",
      "la colonne: 'Dette du gouvernement central, total (% du PIB)' contiens des caractères non-ASCII.\n",
      "la colonne: 'Statistical performance indicators (SPI): Overall score (scale 0-100)' contiens des caractères non-ASCII.\n",
      "la colonne: 'Utilisateurs d Internet (% de la population)' contiens des caractères non-ASCII.\n",
      "la colonne: 'Proportion de sièges occupés par des femmes dans les parlements nationaux (%)' contiens des caractères non-ASCII.\n",
      "\n",
      "Il existe: 19 colonnes avec des valeurs non-ASCII ou avec des lettres majuscules\n"
     ]
    }
   ],
   "source": [
    "#Verifions s'il y'a des colonnes avec des caractères non-ascii\n",
    "cols_with_no_ascii_val = []\n",
    "for col in df_indicators.columns:\n",
    "    has_non_ascii = any(df_indicators[col].apply(lambda x: any(ord(c) > 127 for c in str(x))))\n",
    "    if has_non_ascii | col.islower() == False:\n",
    "        cols_with_no_ascii_val.append(col)\n",
    "        print(f\"la colonne: '{col}' contiens des caractères non-ASCII.\")\n",
    "print(f\"\\nIl existe: {len(cols_with_no_ascii_val)} colonnes avec des valeurs non-ASCII ou avec des lettres majuscules\")"
   ]
  },
  {
   "cell_type": "code",
   "execution_count": 36,
   "metadata": {},
   "outputs": [
    {
     "name": "stdout",
     "output_type": "stream",
     "text": [
      "Il y'a des valeurs avec des caractères non-ASCII dans le DataFrame, donc il faudra décoder.\n"
     ]
    }
   ],
   "source": [
    "def contains_non_ascii(s):\n",
    "    return s.isascii() if isinstance(s, str) else False\n",
    "\n",
    "contains_non_ascii_indic_data = df_indicators.applymap(contains_non_ascii).any()\n",
    "\n",
    "if contains_non_ascii_indic_data.any():\n",
    "    print(\"Il y'a des valeurs avec des caractères non-ASCII dans le DataFrame, donc il faudra décoder.\")\n",
    "else:\n",
    "    print(\"Le DataFrame ne contient que des caractères ASCII.\")"
   ]
  },
  {
   "cell_type": "code",
   "execution_count": 14,
   "metadata": {},
   "outputs": [
    {
     "name": "stdout",
     "output_type": "stream",
     "text": [
      "Nombre de doublons potentiels dans la colonne 'Country': 0\n"
     ]
    }
   ],
   "source": [
    "# Verifions la qualité des données de la colonne Country, ceci est important pour la jointure des tables\n",
    "duplicated_countries = df_indicators[df_indicators['Country'].duplicated()]\n",
    "print(\"Nombre de doublons potentiels dans la colonne 'Country':\", len(duplicated_countries))"
   ]
  },
  {
   "cell_type": "code",
   "execution_count": 15,
   "metadata": {},
   "outputs": [
    {
     "name": "stdout",
     "output_type": "stream",
     "text": [
      "Nombre de valeurs manquantes dans la colonne 'Country': 0\n"
     ]
    }
   ],
   "source": [
    "# Vérifier les valeurs manquantes\n",
    "missing_countries = df_indicators['Country'].isnull().sum()\n",
    "print(\"Nombre de valeurs manquantes dans la colonne 'Country':\", missing_countries)"
   ]
  },
  {
   "cell_type": "markdown",
   "metadata": {},
   "source": [
    "*pour imputer les données manquantes, on va utiliser la médiane qui est moins sensible aux outliers*\n"
   ]
  },
  {
   "cell_type": "code",
   "execution_count": 16,
   "metadata": {},
   "outputs": [
    {
     "name": "stdout",
     "output_type": "stream",
     "text": [
      "Il existe: 172 pays avec des espaces inutiles à la fin ou au début de la colonne Country\n",
      "\n"
     ]
    },
    {
     "data": {
      "text/plain": [
       "0                      Afghanistan \n",
       "1      Africa Eastern and Southern \n",
       "2       Africa Western and Central \n",
       "3                   Afrique du Sud \n",
       "4                          Albanie \n",
       "                   ...             \n",
       "167                      Venezuela \n",
       "168                       Viet Nam \n",
       "169                 Yemen, Rep. du \n",
       "170                         Zambie \n",
       "171                       Zimbabwe \n",
       "Name: Country, Length: 172, dtype: object"
      ]
     },
     "execution_count": 16,
     "metadata": {},
     "output_type": "execute_result"
    }
   ],
   "source": [
    "# Compter le nombre de lignes avec des espaces inutiles dans la colonne 'Country'\n",
    "rows_with_extra_spaces = df_indicators[df_indicators['Country'].str.endswith(' ') | df_indicators['Country'].str.startswith(' ')]\n",
    "print(f\"Il existe: {len(rows_with_extra_spaces)} pays avec des espaces inutiles à la fin ou au début de la colonne Country\\n\")\n",
    "rows_with_extra_spaces['Country']"
   ]
  },
  {
   "cell_type": "markdown",
   "metadata": {},
   "source": [
    "*On peut corriger en faisant du strip*"
   ]
  },
  {
   "cell_type": "code",
   "execution_count": 17,
   "metadata": {},
   "outputs": [
    {
     "data": {
      "text/plain": [
       "array([dtype('O')], dtype=object)"
      ]
     },
     "execution_count": 17,
     "metadata": {},
     "output_type": "execute_result"
    }
   ],
   "source": [
    "df_indicators.dtypes.unique()"
   ]
  },
  {
   "cell_type": "markdown",
   "metadata": {},
   "source": [
    "* On peut bien voir que toutes les données sont considérées comme des objets. Alors que dans la réalité certaines données comme les chiffres sont en vrai des valeurs numériques. Ceci est à corriger en enlevant les virgules et transformant en float*"
   ]
  },
  {
   "cell_type": "code",
   "execution_count": 18,
   "metadata": {},
   "outputs": [
    {
     "name": "stdout",
     "output_type": "stream",
     "text": [
      "Il y'a en réalité: 666 valeur(s) nulles dans le dataset des indicateurs\n"
     ]
    }
   ],
   "source": [
    "number_of_nan = (df_indicators == \"No data available\").sum().sum()\n",
    "print(f\"Il y'a en réalité: {number_of_nan} valeur(s) nulles dans le dataset des indicateurs\")"
   ]
  },
  {
   "cell_type": "code",
   "execution_count": 19,
   "metadata": {},
   "outputs": [
    {
     "name": "stdout",
     "output_type": "stream",
     "text": [
      "Il y'a: 0 dupliquée(s) dans ce dataframe\n"
     ]
    }
   ],
   "source": [
    "# Vérifions si il ny'a pas ded données dupliquées\n",
    "duplicated_rows = df_indicators[df_indicators.duplicated()].shape[0]\n",
    "print(f\"Il y'a: {duplicated_rows} dupliquée(s) dans ce dataframe\")"
   ]
  },
  {
   "cell_type": "markdown",
   "metadata": {},
   "source": [
    "### Analyser le dataframe Country_codes"
   ]
  },
  {
   "cell_type": "code",
   "execution_count": 20,
   "metadata": {},
   "outputs": [
    {
     "data": {
      "text/html": [
       "<div>\n",
       "<style scoped>\n",
       "    .dataframe tbody tr th:only-of-type {\n",
       "        vertical-align: middle;\n",
       "    }\n",
       "\n",
       "    .dataframe tbody tr th {\n",
       "        vertical-align: top;\n",
       "    }\n",
       "\n",
       "    .dataframe thead th {\n",
       "        text-align: right;\n",
       "    }\n",
       "</style>\n",
       "<table border=\"1\" class=\"dataframe\">\n",
       "  <thead>\n",
       "    <tr style=\"text-align: right;\">\n",
       "      <th></th>\n",
       "      <th>id</th>\n",
       "      <th>name</th>\n",
       "      <th>region</th>\n",
       "    </tr>\n",
       "  </thead>\n",
       "  <tbody>\n",
       "    <tr>\n",
       "      <th>0</th>\n",
       "      <td>ABW</td>\n",
       "      <td>Aruba</td>\n",
       "      <td>Amérique latine et Caraïbes</td>\n",
       "    </tr>\n",
       "    <tr>\n",
       "      <th>1</th>\n",
       "      <td>AFE</td>\n",
       "      <td>NaN</td>\n",
       "      <td>Agrégats</td>\n",
       "    </tr>\n",
       "    <tr>\n",
       "      <th>2</th>\n",
       "      <td>AFG</td>\n",
       "      <td>Afghanistan</td>\n",
       "      <td>Asie du Sud</td>\n",
       "    </tr>\n",
       "    <tr>\n",
       "      <th>3</th>\n",
       "      <td>AFR</td>\n",
       "      <td>NaN</td>\n",
       "      <td>Agrégats</td>\n",
       "    </tr>\n",
       "    <tr>\n",
       "      <th>4</th>\n",
       "      <td>AFW</td>\n",
       "      <td>NaN</td>\n",
       "      <td>Agrégats</td>\n",
       "    </tr>\n",
       "  </tbody>\n",
       "</table>\n",
       "</div>"
      ],
      "text/plain": [
       "    id         name                       region\n",
       "0  ABW        Aruba  Amérique latine et Caraïbes\n",
       "1  AFE          NaN                     Agrégats\n",
       "2  AFG  Afghanistan                  Asie du Sud\n",
       "3  AFR          NaN                     Agrégats\n",
       "4  AFW          NaN                     Agrégats"
      ]
     },
     "execution_count": 20,
     "metadata": {},
     "output_type": "execute_result"
    }
   ],
   "source": [
    "if('df_country_codes' in list(datasets.keys())):\n",
    "    df_country_codes = datasets['df_country_codes']\n",
    "df_country_codes.head()"
   ]
  },
  {
   "cell_type": "code",
   "execution_count": 21,
   "metadata": {},
   "outputs": [
    {
     "data": {
      "text/plain": [
       "<bound method NDFrame.describe of       id            name                           region\n",
       "0    ABW           Aruba      Amérique latine et Caraïbes\n",
       "1    AFE             NaN                         Agrégats\n",
       "2    AFG     Afghanistan                      Asie du Sud\n",
       "3    AFR             NaN                         Agrégats\n",
       "4    AFW             NaN                         Agrégats\n",
       "..   ...             ...                              ...\n",
       "292  XZN             NaN                         Agrégats\n",
       "293  YEM  Yémen, Rép. du  Afrique du Nord et Moyen-Orient\n",
       "294  ZAF  Afrique du Sud            Afrique subsaharienne\n",
       "295  ZMB          Zambie            Afrique subsaharienne\n",
       "296  ZWE        Zimbabwe            Afrique subsaharienne\n",
       "\n",
       "[297 rows x 3 columns]>"
      ]
     },
     "execution_count": 21,
     "metadata": {},
     "output_type": "execute_result"
    }
   ],
   "source": [
    "df_country_codes.describe"
   ]
  },
  {
   "cell_type": "code",
   "execution_count": 148,
   "metadata": {},
   "outputs": [
    {
     "data": {
      "text/plain": [
       "(297, 3)"
      ]
     },
     "execution_count": 148,
     "metadata": {},
     "output_type": "execute_result"
    }
   ],
   "source": [
    "print(f\"Nous avons un dataset de {df_country_codes.shape[0]} lignes et {df_country_codes.shape[1]} colonnes\")"
   ]
  },
  {
   "cell_type": "code",
   "execution_count": 22,
   "metadata": {},
   "outputs": [
    {
     "data": {
      "text/plain": [
       "id        object\n",
       "name      object\n",
       "region    object\n",
       "dtype: object"
      ]
     },
     "execution_count": 22,
     "metadata": {},
     "output_type": "execute_result"
    }
   ],
   "source": [
    "df_country_codes.dtypes"
   ]
  },
  {
   "cell_type": "markdown",
   "metadata": {},
   "source": [
    "*Toutes les colonnes sont de type object, ce qui est cohérent*"
   ]
  },
  {
   "cell_type": "code",
   "execution_count": 24,
   "metadata": {},
   "outputs": [
    {
     "data": {
      "text/plain": [
       "id         0\n",
       "name      32\n",
       "region     0\n",
       "dtype: int64"
      ]
     },
     "execution_count": 24,
     "metadata": {},
     "output_type": "execute_result"
    }
   ],
   "source": [
    "# verifions s'il y'a des valeurs manquantes\n",
    "df_country_codes.isna().sum()"
   ]
  },
  {
   "cell_type": "markdown",
   "metadata": {},
   "source": [
    "*On voit qu'il y'a des données manqauantes pour la colonne name, qui est ici le nom du pays. Etant donné qu'on ne peut pas rmplacer le nom d'un pays, on va corriger cela en supprimant toutes lignes où le nom est null*"
   ]
  },
  {
   "cell_type": "code",
   "execution_count": 25,
   "metadata": {},
   "outputs": [
    {
     "name": "stdout",
     "output_type": "stream",
     "text": [
      "\n",
      "Il existe: 0 colonnes avec des valeurs non-ASCII ou avec des lettres majuscules\n"
     ]
    }
   ],
   "source": [
    "#Verifions s'il y'a des colonnes avec des caractères non-ascii\n",
    "cols_cc_with_no_ascii_val = []\n",
    "for col in df_country_codes.columns:\n",
    "    has_non_ascii = any(df_country_codes[col].apply(lambda x: any(ord(c) > 127 for c in str(x))))\n",
    "    if has_non_ascii | col.islower() == False:\n",
    "        cols_cc_with_no_ascii_val.append(col)\n",
    "        print(f\"la colonne: '{col}' contiens des caractères non-ASCII.\")\n",
    "print(f\"\\nIl existe: {len(cols_cc_with_no_ascii_val)} colonnes avec des valeurs non-ASCII ou avec des lettres majuscules\")"
   ]
  },
  {
   "cell_type": "code",
   "execution_count": 37,
   "metadata": {},
   "outputs": [
    {
     "name": "stdout",
     "output_type": "stream",
     "text": [
      "Il y'a des valeurs avec des caractères non-ASCII dans le DataFrame, donc il faudra décoder.\n"
     ]
    }
   ],
   "source": [
    "contains_non_ascii_cc_data = df_country_codes.applymap(contains_non_ascii).any()\n",
    "if contains_non_ascii_cc_data.any():\n",
    "    print(\"Il y'a des valeurs avec des caractères non-ASCII dans le DataFrame, donc il faudra décoder.\")\n",
    "else:\n",
    "    print(\"Le DataFrame ne contient que des caractères ASCII.\")"
   ]
  },
  {
   "cell_type": "code",
   "execution_count": 38,
   "metadata": {},
   "outputs": [
    {
     "name": "stdout",
     "output_type": "stream",
     "text": [
      "Il y'a: 0 dupliquée(s) dans ce dataframe\n"
     ]
    }
   ],
   "source": [
    "# Vérifions si il ny'a pas des données dupliquées\n",
    "duplicated_cc_rows = df_country_codes[df_country_codes.duplicated()].shape[0]\n",
    "print(f\"Il y'a: {duplicated_cc_rows} dupliquée(s) dans ce dataframe\")"
   ]
  },
  {
   "cell_type": "markdown",
   "metadata": {},
   "source": [
    "### Analyse du dataset sur les niveaux de vies"
   ]
  },
  {
   "cell_type": "code",
   "execution_count": 39,
   "metadata": {},
   "outputs": [
    {
     "data": {
      "text/html": [
       "<div>\n",
       "<style scoped>\n",
       "    .dataframe tbody tr th:only-of-type {\n",
       "        vertical-align: middle;\n",
       "    }\n",
       "\n",
       "    .dataframe tbody tr th {\n",
       "        vertical-align: top;\n",
       "    }\n",
       "\n",
       "    .dataframe thead th {\n",
       "        text-align: right;\n",
       "    }\n",
       "</style>\n",
       "<table border=\"1\" class=\"dataframe\">\n",
       "  <thead>\n",
       "    <tr style=\"text-align: right;\">\n",
       "      <th></th>\n",
       "      <th>Economy</th>\n",
       "      <th>Code</th>\n",
       "      <th>Region</th>\n",
       "      <th>Income group</th>\n",
       "      <th>Lending category</th>\n",
       "    </tr>\n",
       "  </thead>\n",
       "  <tbody>\n",
       "    <tr>\n",
       "      <th>0</th>\n",
       "      <td>Aruba</td>\n",
       "      <td>ABW</td>\n",
       "      <td>Latin America &amp; Caribbean</td>\n",
       "      <td>High income</td>\n",
       "      <td>NaN</td>\n",
       "    </tr>\n",
       "    <tr>\n",
       "      <th>1</th>\n",
       "      <td>Afghanistan</td>\n",
       "      <td>AFG</td>\n",
       "      <td>South Asia</td>\n",
       "      <td>Low income</td>\n",
       "      <td>IDA</td>\n",
       "    </tr>\n",
       "    <tr>\n",
       "      <th>2</th>\n",
       "      <td>Angola</td>\n",
       "      <td>AGO</td>\n",
       "      <td>Sub-Saharan Africa</td>\n",
       "      <td>Lower middle income</td>\n",
       "      <td>IBRD</td>\n",
       "    </tr>\n",
       "    <tr>\n",
       "      <th>3</th>\n",
       "      <td>Albania</td>\n",
       "      <td>ALB</td>\n",
       "      <td>Europe &amp; Central Asia</td>\n",
       "      <td>Upper middle income</td>\n",
       "      <td>IBRD</td>\n",
       "    </tr>\n",
       "    <tr>\n",
       "      <th>4</th>\n",
       "      <td>Andorra</td>\n",
       "      <td>AND</td>\n",
       "      <td>Europe &amp; Central Asia</td>\n",
       "      <td>High income</td>\n",
       "      <td>NaN</td>\n",
       "    </tr>\n",
       "  </tbody>\n",
       "</table>\n",
       "</div>"
      ],
      "text/plain": [
       "       Economy Code                     Region         Income group  \\\n",
       "0        Aruba  ABW  Latin America & Caribbean          High income   \n",
       "1  Afghanistan  AFG                 South Asia           Low income   \n",
       "2       Angola  AGO         Sub-Saharan Africa  Lower middle income   \n",
       "3      Albania  ALB      Europe & Central Asia  Upper middle income   \n",
       "4      Andorra  AND      Europe & Central Asia          High income   \n",
       "\n",
       "  Lending category  \n",
       "0              NaN  \n",
       "1              IDA  \n",
       "2             IBRD  \n",
       "3             IBRD  \n",
       "4              NaN  "
      ]
     },
     "execution_count": 39,
     "metadata": {},
     "output_type": "execute_result"
    }
   ],
   "source": [
    "if('df_CLASS' in list(datasets.keys())):\n",
    "    df_CLASS = datasets['df_CLASS']\n",
    "df_CLASS.head()"
   ]
  },
  {
   "cell_type": "markdown",
   "metadata": {},
   "source": [
    "Les colonnes qui vont nous interesser dans cette base de données sont: le code, la région et le niveau de vie"
   ]
  },
  {
   "cell_type": "code",
   "execution_count": 40,
   "metadata": {},
   "outputs": [
    {
     "name": "stdout",
     "output_type": "stream",
     "text": [
      "Nous avons un dataset de 267 lignes et 25 colonnes\n"
     ]
    }
   ],
   "source": [
    "print(f\"Nous avons un dataset de {df_CLASS.shape[0]} lignes et {df_indicators.shape[1]} colonnes\")"
   ]
  },
  {
   "cell_type": "code",
   "execution_count": 42,
   "metadata": {},
   "outputs": [
    {
     "data": {
      "text/plain": [
       "array([dtype('O')], dtype=object)"
      ]
     },
     "execution_count": 42,
     "metadata": {},
     "output_type": "execute_result"
    }
   ],
   "source": [
    "df_CLASS.dtypes.unique()"
   ]
  },
  {
   "cell_type": "markdown",
   "metadata": {},
   "source": [
    "*Nous avons des données qualitatives pour ce dataframe*"
   ]
  },
  {
   "cell_type": "code",
   "execution_count": 44,
   "metadata": {},
   "outputs": [
    {
     "data": {
      "text/html": [
       "<div>\n",
       "<style scoped>\n",
       "    .dataframe tbody tr th:only-of-type {\n",
       "        vertical-align: middle;\n",
       "    }\n",
       "\n",
       "    .dataframe tbody tr th {\n",
       "        vertical-align: top;\n",
       "    }\n",
       "\n",
       "    .dataframe thead th {\n",
       "        text-align: right;\n",
       "    }\n",
       "</style>\n",
       "<table border=\"1\" class=\"dataframe\">\n",
       "  <thead>\n",
       "    <tr style=\"text-align: right;\">\n",
       "      <th></th>\n",
       "      <th>Economy</th>\n",
       "      <th>Code</th>\n",
       "      <th>Region</th>\n",
       "      <th>Income group</th>\n",
       "      <th>Lending category</th>\n",
       "    </tr>\n",
       "  </thead>\n",
       "  <tbody>\n",
       "    <tr>\n",
       "      <th>count</th>\n",
       "      <td>266</td>\n",
       "      <td>266</td>\n",
       "      <td>218</td>\n",
       "      <td>217</td>\n",
       "      <td>144</td>\n",
       "    </tr>\n",
       "    <tr>\n",
       "      <th>unique</th>\n",
       "      <td>266</td>\n",
       "      <td>266</td>\n",
       "      <td>7</td>\n",
       "      <td>4</td>\n",
       "      <td>3</td>\n",
       "    </tr>\n",
       "    <tr>\n",
       "      <th>top</th>\n",
       "      <td>Aruba</td>\n",
       "      <td>ABW</td>\n",
       "      <td>Europe &amp; Central Asia</td>\n",
       "      <td>High income</td>\n",
       "      <td>IBRD</td>\n",
       "    </tr>\n",
       "    <tr>\n",
       "      <th>freq</th>\n",
       "      <td>1</td>\n",
       "      <td>1</td>\n",
       "      <td>58</td>\n",
       "      <td>83</td>\n",
       "      <td>69</td>\n",
       "    </tr>\n",
       "  </tbody>\n",
       "</table>\n",
       "</div>"
      ],
      "text/plain": [
       "       Economy Code                 Region Income group Lending category\n",
       "count      266  266                    218          217              144\n",
       "unique     266  266                      7            4                3\n",
       "top      Aruba  ABW  Europe & Central Asia  High income             IBRD\n",
       "freq         1    1                     58           83               69"
      ]
     },
     "execution_count": 44,
     "metadata": {},
     "output_type": "execute_result"
    }
   ],
   "source": [
    "df_CLASS.describe()"
   ]
  },
  {
   "cell_type": "code",
   "execution_count": 45,
   "metadata": {},
   "outputs": [
    {
     "data": {
      "text/plain": [
       "Economy               1\n",
       "Code                  1\n",
       "Region               49\n",
       "Income group         50\n",
       "Lending category    123\n",
       "dtype: int64"
      ]
     },
     "execution_count": 45,
     "metadata": {},
     "output_type": "execute_result"
    }
   ],
   "source": [
    "# verifions les valeurs manquantes\n",
    "df_CLASS.isna().sum()"
   ]
  },
  {
   "cell_type": "markdown",
   "metadata": {},
   "source": [
    "Pour l'imputation des données manquantes, on pourra supprimer les lignes qui ont une valeur nulle dans la colonne \"region\". En effet c'est la colonne qui nous interessera, en plus de la colonne Code et Income group"
   ]
  },
  {
   "cell_type": "markdown",
   "metadata": {},
   "source": [
    "Comme il n'ya qu'une seule valeur manquante pour le income group, on peut remplacer par la valeur la plus fréquente"
   ]
  },
  {
   "cell_type": "code",
   "execution_count": 47,
   "metadata": {},
   "outputs": [
    {
     "name": "stdout",
     "output_type": "stream",
     "text": [
      "Il y'a des valeurs avec des caractères non-ASCII dans le DataFrame, donc il faudra décoder.\n"
     ]
    }
   ],
   "source": [
    "contains_non_ascii_cls_data = df_country_codes.applymap(contains_non_ascii).any()\n",
    "if contains_non_ascii_cls_data.any():\n",
    "    print(\"Il y'a des valeurs avec des caractères non-ASCII dans le DataFrame, donc il faudra décoder.\")\n",
    "else:\n",
    "    print(\"Le DataFrame ne contient que des caractères ASCII.\")"
   ]
  },
  {
   "cell_type": "code",
   "execution_count": 49,
   "metadata": {},
   "outputs": [
    {
     "name": "stdout",
     "output_type": "stream",
     "text": [
      "Il y'a: 0 dupliquée(s) dans ce dataframe\n"
     ]
    }
   ],
   "source": [
    "# Vérifions si il ny'a pas des données dupliquées\n",
    "duplicated_cls_rows = df_CLASS[df_CLASS.duplicated()].shape[0]\n",
    "print(f\"Il y'a: {duplicated_cls_rows} dupliquée(s) dans ce dataframe\")"
   ]
  },
  {
   "cell_type": "markdown",
   "metadata": {},
   "source": [
    "*D'après ces différentes explorations, on peut voir qu'il n'ya aucune ligne dupliquée dans nos datasets. Cependant il y'a des données manquantes à supprimer ou à imputer, cela dépendra du seuil fixé. IL existe des données avec des caractères non-ascii dans certains datasets, ce qui peut poser des problèmes dans le merging. Toutes les données sont considérées comme des objets alors que certaines doivent êtres numériques.*"
   ]
  },
  {
   "cell_type": "code",
   "execution_count": 4,
   "metadata": {},
   "outputs": [
    {
     "data": {
      "text/plain": [
       "['code_pays',\n",
       " 'pays',\n",
       " 'region',\n",
       " 'population_totale',\n",
       " 'migration nette',\n",
       " 'croissance annuelle du PIB',\n",
       " 'pourcentage total de la population au chomage',\n",
       " 'inflation, prix annuel a la consommation',\n",
       " \"acces a l'electricite(%population)\",\n",
       " 'indice du capital humain (indice entre 0 et 1)',\n",
       " 'niveau de vie']"
      ]
     },
     "execution_count": 4,
     "metadata": {},
     "output_type": "execute_result"
    }
   ],
   "source": [
    "list(FILTERS_PARAMS['FEATURES'].values())"
   ]
  },
  {
   "cell_type": "markdown",
   "metadata": {},
   "source": [
    "* Dans le cadre de notre projet de mise en place ....., on ne va s'interesser qu'aux colonnes:\n",
    " `'code_pays',\n",
    " 'pays',\n",
    " 'region',\n",
    " 'population_totale',\n",
    " 'migration nette',\n",
    " 'croissance annuelle du PIB',\n",
    " 'pourcentage total de la population au chomage',\n",
    " 'inflation, prix annuel a la consommation',\n",
    " 'acces a l'electricite(%population)',\n",
    " 'indice du capital humain (indice entre 0 et 1)',\n",
    " 'niveau de vie'`"
   ]
  },
  {
   "cell_type": "code",
   "execution_count": null,
   "metadata": {},
   "outputs": [],
   "source": []
  }
 ],
 "metadata": {
  "kernelspec": {
   "display_name": "base",
   "language": "python",
   "name": "python3"
  },
  "language_info": {
   "codemirror_mode": {
    "name": "ipython",
    "version": 3
   },
   "file_extension": ".py",
   "mimetype": "text/x-python",
   "name": "python",
   "nbconvert_exporter": "python",
   "pygments_lexer": "ipython3",
   "version": "3.11.3"
  },
  "orig_nbformat": 4
 },
 "nbformat": 4,
 "nbformat_minor": 2
}
